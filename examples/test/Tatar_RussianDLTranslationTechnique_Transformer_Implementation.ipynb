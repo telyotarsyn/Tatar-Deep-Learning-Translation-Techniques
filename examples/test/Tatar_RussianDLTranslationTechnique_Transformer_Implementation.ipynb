{
  "nbformat": 4,
  "nbformat_minor": 0,
  "metadata": {
    "colab": {
      "name": "Tatar-RussianDLTranslationTechnique Transformer Implementation.ipynb",
      "provenance": [],
      "collapsed_sections": [],
      "toc_visible": true,
      "include_colab_link": true
    },
    "kernelspec": {
      "name": "python3",
      "display_name": "Python 3"
    },
    "accelerator": "GPU"
  },
  "cells": [
    {
      "cell_type": "markdown",
      "metadata": {
        "id": "view-in-github",
        "colab_type": "text"
      },
      "source": [
        "<a href=\"https://colab.research.google.com/github/wavatatarskii/TatarDLTranslationTechniques/blob/master/examples/test/Tatar_RussianDLTranslationTechnique_Transformer_Implementation.ipynb\" target=\"_parent\"><img src=\"https://colab.research.google.com/assets/colab-badge.svg\" alt=\"Open In Colab\"/></a>"
      ]
    },
    {
      "cell_type": "markdown",
      "metadata": {
        "id": "OYZ6uijDCGVi",
        "colab_type": "text"
      },
      "source": [
        "### Install the nightly built Tensorflow 2.0 to use LayerNorm layer"
      ]
    },
    {
      "cell_type": "code",
      "metadata": {
        "id": "mApbMiIBsmIR",
        "colab_type": "code",
        "colab": {
          "base_uri": "https://localhost:8080/",
          "height": 119
        },
        "outputId": "510193b3-99e3-4a6e-f889-1de9917af216"
      },
      "source": [
        "!git clone https://github.com/wavatatarskii/TatarDLTranslationTechniques.git"
      ],
      "execution_count": 2,
      "outputs": [
        {
          "output_type": "stream",
          "text": [
            "Cloning into 'TatarDLTranslationTechniques'...\n",
            "remote: Enumerating objects: 6, done.\u001b[K\n",
            "remote: Counting objects:  16% (1/6)\u001b[K\rremote: Counting objects:  33% (2/6)\u001b[K\rremote: Counting objects:  50% (3/6)\u001b[K\rremote: Counting objects:  66% (4/6)\u001b[K\rremote: Counting objects:  83% (5/6)\u001b[K\rremote: Counting objects: 100% (6/6)\u001b[K\rremote: Counting objects: 100% (6/6), done.\u001b[K\n",
            "remote: Compressing objects:  20% (1/5)\u001b[K\rremote: Compressing objects:  40% (2/5)\u001b[K\rremote: Compressing objects:  60% (3/5)\u001b[K\rremote: Compressing objects:  80% (4/5)\u001b[K\rremote: Compressing objects: 100% (5/5)\u001b[K\rremote: Compressing objects: 100% (5/5), done.\u001b[K\n",
            "Unpacking objects:  16% (1/6)   \rUnpacking objects:  33% (2/6)   \rUnpacking objects:  50% (3/6)   \rUnpacking objects:  66% (4/6)   \rremote: Total 6 (delta 0), reused 0 (delta 0), pack-reused 0\u001b[K\n",
            "Unpacking objects:  83% (5/6)   \rUnpacking objects: 100% (6/6)   \rUnpacking objects: 100% (6/6), done.\n"
          ],
          "name": "stdout"
        }
      ]
    },
    {
      "cell_type": "code",
      "metadata": {
        "id": "kElTdoawPxzb",
        "colab_type": "code",
        "outputId": "fe860216-4756-44d6-9028-b4ce9ce08652",
        "colab": {
          "base_uri": "https://localhost:8080/",
          "height": 377
        }
      },
      "source": [
        "# !pip install tensorflow-gpu==2.0.0-alpha\n",
        "!pip install tf-nightly-gpu-2.0-preview"
      ],
      "execution_count": 0,
      "outputs": [
        {
          "output_type": "stream",
          "text": [
            "Requirement already satisfied: tf-nightly-gpu-2.0-preview in /usr/local/lib/python3.6/dist-packages (2.0.0.dev20190506)\n",
            "Requirement already satisfied: tb-nightly<1.15.0a0,>=1.14.0a0 in /usr/local/lib/python3.6/dist-packages (from tf-nightly-gpu-2.0-preview) (1.14.0a20190506)\n",
            "Requirement already satisfied: absl-py>=0.7.0 in /usr/local/lib/python3.6/dist-packages (from tf-nightly-gpu-2.0-preview) (0.7.1)\n",
            "Requirement already satisfied: google-pasta>=0.1.2 in /usr/local/lib/python3.6/dist-packages (from tf-nightly-gpu-2.0-preview) (0.1.5)\n",
            "Requirement already satisfied: astor>=0.6.0 in /usr/local/lib/python3.6/dist-packages (from tf-nightly-gpu-2.0-preview) (0.7.1)\n",
            "Requirement already satisfied: keras-preprocessing>=1.0.5 in /usr/local/lib/python3.6/dist-packages (from tf-nightly-gpu-2.0-preview) (1.0.9)\n",
            "Requirement already satisfied: tensorflow-estimator-2.0-preview in /usr/local/lib/python3.6/dist-packages (from tf-nightly-gpu-2.0-preview) (1.14.0.dev2019050600)\n",
            "Requirement already satisfied: gast>=0.2.0 in /usr/local/lib/python3.6/dist-packages (from tf-nightly-gpu-2.0-preview) (0.2.2)\n",
            "Requirement already satisfied: keras-applications>=1.0.6 in /usr/local/lib/python3.6/dist-packages (from tf-nightly-gpu-2.0-preview) (1.0.7)\n",
            "Requirement already satisfied: wrapt>=1.11.1 in /usr/local/lib/python3.6/dist-packages (from tf-nightly-gpu-2.0-preview) (1.11.1)\n",
            "Requirement already satisfied: wheel>=0.26 in /usr/local/lib/python3.6/dist-packages (from tf-nightly-gpu-2.0-preview) (0.33.1)\n",
            "Requirement already satisfied: grpcio>=1.8.6 in /usr/local/lib/python3.6/dist-packages (from tf-nightly-gpu-2.0-preview) (1.15.0)\n",
            "Requirement already satisfied: termcolor>=1.1.0 in /usr/local/lib/python3.6/dist-packages (from tf-nightly-gpu-2.0-preview) (1.1.0)\n",
            "Requirement already satisfied: protobuf>=3.6.1 in /usr/local/lib/python3.6/dist-packages (from tf-nightly-gpu-2.0-preview) (3.7.1)\n",
            "Requirement already satisfied: six>=1.10.0 in /usr/local/lib/python3.6/dist-packages (from tf-nightly-gpu-2.0-preview) (1.12.0)\n",
            "Requirement already satisfied: numpy<2.0,>=1.14.5 in /usr/local/lib/python3.6/dist-packages (from tf-nightly-gpu-2.0-preview) (1.16.3)\n",
            "Requirement already satisfied: markdown>=2.6.8 in /usr/local/lib/python3.6/dist-packages (from tb-nightly<1.15.0a0,>=1.14.0a0->tf-nightly-gpu-2.0-preview) (3.1)\n",
            "Requirement already satisfied: werkzeug>=0.11.15 in /usr/local/lib/python3.6/dist-packages (from tb-nightly<1.15.0a0,>=1.14.0a0->tf-nightly-gpu-2.0-preview) (0.15.2)\n",
            "Requirement already satisfied: h5py in /usr/local/lib/python3.6/dist-packages (from keras-applications>=1.0.6->tf-nightly-gpu-2.0-preview) (2.8.0)\n",
            "Requirement already satisfied: setuptools in /usr/local/lib/python3.6/dist-packages (from protobuf>=3.6.1->tf-nightly-gpu-2.0-preview) (41.0.1)\n"
          ],
          "name": "stdout"
        }
      ]
    },
    {
      "cell_type": "markdown",
      "metadata": {
        "id": "UfoKFO4lCOzU",
        "colab_type": "text"
      },
      "source": [
        "### Import and create utility functions"
      ]
    },
    {
      "cell_type": "code",
      "metadata": {
        "id": "xtTr3Pmr9dMd",
        "colab_type": "code",
        "colab": {
          "base_uri": "https://localhost:8080/",
          "height": 63
        },
        "outputId": "efdc3330-3c5b-4acf-c3db-ad7dee219832"
      },
      "source": [
        "import tensorflow as tf\n",
        "import numpy as np\n",
        "import unicodedata\n",
        "import re\n",
        "import os\n",
        "import requests\n",
        "from zipfile import ZipFile\n",
        "import time\n",
        "tf.compat.v1.enable_eager_execution()\n",
        "\n",
        "# Mode can be either 'train' or 'infer'\n",
        "# Set to 'infer' will skip the training\n",
        "MODE = 'train'\n",
        "# URL = 'http://www.manythings.org/anki/fra-eng.zip'\n",
        "#URL = 'http://www.manythings.org/anki/ita-eng.zip'\n",
        "FILENAME = '/content/TatarDLTranslationTechniques/tatTABru60000-1.zip'\n",
        "\n",
        "\n",
        "def maybe_download_and_read_file(url, filename):\n",
        "    \"\"\" Download and unzip training data\n",
        "    Args:\n",
        "        url: data url\n",
        "        filename: zip filename\n",
        "    \n",
        "    Returns:\n",
        "        Training data: an array containing text lines from the data\n",
        "    \"\"\"\n",
        "    if not os.path.exists(filename):\n",
        "        session = requests.Session()\n",
        "        response = session.get(url, stream=True)\n",
        "\n",
        "        CHUNK_SIZE = 32768\n",
        "        with open(filename, \"wb\") as f:\n",
        "            for chunk in response.iter_content(CHUNK_SIZE):\n",
        "                if chunk:\n",
        "                    f.write(chunk)\n",
        "\n",
        "    zipf = ZipFile(filename)\n",
        "    filename = zipf.namelist()\n",
        "    with zipf.open(filename[0]) as f:\n",
        "        lines = f.read()\n",
        "\n",
        "    return lines\n",
        "\n",
        "\n",
        "\n",
        "\n",
        "\n",
        "\n",
        "def normalize_string(s):\n",
        "    s = re.sub(r'([!.?])', r' \\1', s)\n",
        "    s = re.sub(r'\\s+', r' ', s)\n",
        "    return s"
      ],
      "execution_count": 3,
      "outputs": [
        {
          "output_type": "display_data",
          "data": {
            "text/html": [
              "<p style=\"color: red;\">\n",
              "The default version of TensorFlow in Colab will soon switch to TensorFlow 2.x.<br>\n",
              "We recommend you <a href=\"https://www.tensorflow.org/guide/migrate\" target=\"_blank\">upgrade</a> now \n",
              "or ensure your notebook will continue to use TensorFlow 1.x via the <code>%tensorflow_version 1.x</code> magic:\n",
              "<a href=\"https://colab.research.google.com/notebooks/tensorflow_version.ipynb\" target=\"_blank\">more info</a>.</p>\n"
            ],
            "text/plain": [
              "<IPython.core.display.HTML object>"
            ]
          },
          "metadata": {
            "tags": []
          }
        }
      ]
    },
    {
      "cell_type": "markdown",
      "metadata": {
        "id": "oFCi9xR5CVCZ",
        "colab_type": "text"
      },
      "source": [
        "### Download and process training data"
      ]
    },
    {
      "cell_type": "code",
      "metadata": {
        "id": "PYnj3KncAwro",
        "colab_type": "code",
        "outputId": "853d1987-5b38-4cd5-c735-8034f26580cc",
        "colab": {
          "base_uri": "https://localhost:8080/",
          "height": 54
        }
      },
      "source": [
        "lines = maybe_download_and_read_file(None, FILENAME)\n",
        "lines = lines.decode('utf-8')\n",
        "\n",
        "raw_data = []\n",
        "for line in lines.split('\\n'):\n",
        "    raw_data.append(line.split('\\t'))\n",
        "\n",
        "print(raw_data[-5:])\n",
        "# The last element is empty, so omit it\n",
        "raw_data = raw_data[:-1]\n",
        "\n",
        "\n",
        "\"\"\"## Preprocessing\"\"\"\n",
        "\n",
        "\n",
        "\n",
        "raw_data_tt, raw_data_ru = list(zip(*raw_data))\n",
        "raw_data_tt = [normalize_string(data) for data in raw_data_tt]\n",
        "raw_data_ru_in = ['<start> ' + normalize_string(data) for data in raw_data_ru]\n",
        "raw_data_ru_out = [normalize_string(data) + ' <end>' for data in raw_data_ru]\n",
        "\n",
        "\"\"\"## Tokenization\"\"\"\n",
        "\n",
        "tt_tokenizer = tf.keras.preprocessing.text.Tokenizer(filters='')\n",
        "tt_tokenizer.fit_on_texts(raw_data_tt)\n",
        "data_tt = tt_tokenizer.texts_to_sequences(raw_data_tt)\n",
        "data_tt = tf.keras.preprocessing.sequence.pad_sequences(data_tt,\n",
        "                                                        padding='post')\n",
        "\n",
        "ru_tokenizer = tf.keras.preprocessing.text.Tokenizer(filters='')\n",
        "ru_tokenizer.fit_on_texts(raw_data_ru_in)\n",
        "ru_tokenizer.fit_on_texts(raw_data_ru_out)\n",
        "data_ru_in = ru_tokenizer.texts_to_sequences(raw_data_ru_in)\n",
        "data_ru_in = tf.keras.preprocessing.sequence.pad_sequences(data_ru_in,\n",
        "                                                           padding='post')\n",
        "\n",
        "data_ru_out = ru_tokenizer.texts_to_sequences(raw_data_ru_out)\n",
        "data_ru_out = tf.keras.preprocessing.sequence.pad_sequences(data_ru_out,\n",
        "                                                            padding='post')\n",
        "\n",
        "\"\"\"## Create tf.data.Dataset object\"\"\"\n",
        "\n",
        "BATCH_SIZE = 64\n",
        "dataset = tf.data.Dataset.from_tensor_slices(\n",
        "    (data_tt, data_ru_in, data_ru_out))\n",
        "dataset = dataset.shuffle(len(data_tt)).batch(BATCH_SIZE)"
      ],
      "execution_count": 4,
      "outputs": [
        {
          "output_type": "stream",
          "text": [
            "[['Болай да артыгын сөйләдем.', 'Я и так изложил.\\r'], ['Рәхмәт, Мәннән абзый.', 'Спасибо, Майдан-абзый.\\r'], ['Сау бул, кызым.', 'До свидания, дочка.\\r'], ['Ана теләге дәрья төбеннән чыгарыр, диләр бит.', 'Говорят же, что желание матери выведет ее из дна.\\r'], ['Йоклаганга салышып, тын гына ята бирде.', 'Молча лежал, притворившись спящим.']]\n"
          ],
          "name": "stdout"
        }
      ]
    },
    {
      "cell_type": "markdown",
      "metadata": {
        "id": "m1RmU-u7CYwQ",
        "colab_type": "text"
      },
      "source": [
        "### Positional Encoding"
      ]
    },
    {
      "cell_type": "code",
      "metadata": {
        "id": "yg7_8DsDAZoc",
        "colab_type": "code",
        "outputId": "b9faac72-94fc-4aa3-ddf9-7b11fd0da496",
        "colab": {
          "base_uri": "https://localhost:8080/",
          "height": 68
        }
      },
      "source": [
        "\"\"\"## Create the Positional Embedding\"\"\"\n",
        "\n",
        "\n",
        "def positional_encoding(pos, model_size):\n",
        "    \"\"\" Compute positional encoding for a particular position\n",
        "    Args:\n",
        "        pos: position of a token in the sequence\n",
        "        model_size: depth size of the model\n",
        "    \n",
        "    Returns:\n",
        "        The positional encoding for the given token\n",
        "    \"\"\"\n",
        "    PE = np.zeros((1, model_size))\n",
        "    for i in range(model_size):\n",
        "        if i % 2 == 0:\n",
        "            PE[:, i] = np.sin(pos / 10000 ** (i / model_size))\n",
        "        else:\n",
        "            PE[:, i] = np.cos(pos / 10000 ** ((i - 1) / model_size))\n",
        "    return PE\n",
        "\n",
        "max_length = max(len(data_tt[0]), len(data_ru_in[0]))\n",
        "MODEL_SIZE = 128\n",
        "\n",
        "pes = []\n",
        "for i in range(max_length):\n",
        "    pes.append(positional_encoding(i, MODEL_SIZE))\n",
        "\n",
        "pes = np.concatenate(pes, axis=0)\n",
        "pes = tf.constant(pes, dtype=tf.float32)\n",
        "\n",
        "\n",
        "print(pes.shape)\n",
        "print(data_tt.shape)\n",
        "print(data_ru_in.shape)"
      ],
      "execution_count": 5,
      "outputs": [
        {
          "output_type": "stream",
          "text": [
            "(98, 128)\n",
            "(59734, 98)\n",
            "(59734, 90)\n"
          ],
          "name": "stdout"
        }
      ]
    },
    {
      "cell_type": "markdown",
      "metadata": {
        "id": "KJPr_lqxCbvi",
        "colab_type": "text"
      },
      "source": [
        "### Multi-Head Attention layer"
      ]
    },
    {
      "cell_type": "code",
      "metadata": {
        "id": "Pgug1s0wAeAh",
        "colab_type": "code",
        "colab": {}
      },
      "source": [
        "\"\"\"## Create the Multihead Attention layer\"\"\"\n",
        "\n",
        "\n",
        "class MultiHeadAttention(tf.keras.Model):\n",
        "    \"\"\" Class for Multi-Head Attention layer\n",
        "    Attributes:\n",
        "        key_size: d_key in the paper\n",
        "        h: number of attention heads\n",
        "        wq: the Linear layer for Q\n",
        "        wk: the Linear layer for K\n",
        "        wv: the Linear layer for V\n",
        "        wo: the Linear layer for the output\n",
        "    \"\"\"\n",
        "    def __init__(self, model_size, h):\n",
        "        super(MultiHeadAttention, self).__init__()\n",
        "        self.key_size = model_size // h\n",
        "        self.h = h\n",
        "        self.wq = tf.keras.layers.Dense(model_size) #[tf.keras.layers.Dense(key_size) for _ in range(h)]\n",
        "        self.wk = tf.keras.layers.Dense(model_size) #[tf.keras.layers.Dense(key_size) for _ in range(h)]\n",
        "        self.wv = tf.keras.layers.Dense(model_size) #[tf.keras.layers.Dense(value_size) for _ in range(h)]\n",
        "        self.wo = tf.keras.layers.Dense(model_size)\n",
        "\n",
        "    def call(self, query, value, mask=None):\n",
        "        \"\"\" The forward pass for Multi-Head Attention layer\n",
        "        Args:\n",
        "            query: the Q matrix\n",
        "            value: the V matrix, acts as V and K\n",
        "            mask: mask to filter out unwanted tokens\n",
        "                  - zero mask: mask for padded tokens\n",
        "                  - right-side mask: mask to prevent attention towards tokens on the right-hand side\n",
        "        \n",
        "        Returns:\n",
        "            The concatenated context vector\n",
        "            The alignment (attention) vectors of all heads\n",
        "        \"\"\"\n",
        "        # query has shape (batch, query_len, model_size)\n",
        "        # value has shape (batch, value_len, model_size)\n",
        "        query = self.wq(query)\n",
        "        key = self.wk(value)\n",
        "        value = self.wv(value)\n",
        "        \n",
        "        # Split matrices for multi-heads attention\n",
        "        batch_size = query.shape[0]\n",
        "        \n",
        "        # Originally, query has shape (batch, query_len, model_size)\n",
        "        # We need to reshape to (batch, query_len, h, key_size)\n",
        "        query = tf.reshape(query, [batch_size, -1, self.h, self.key_size])\n",
        "        # In order to compute matmul, the dimensions must be transposed to (batch, h, query_len, key_size)\n",
        "        query = tf.transpose(query, [0, 2, 1, 3])\n",
        "        \n",
        "        # Do the same for key and value\n",
        "        key = tf.reshape(key, [batch_size, -1, self.h, self.key_size])\n",
        "        key = tf.transpose(key, [0, 2, 1, 3])\n",
        "        value = tf.reshape(value, [batch_size, -1, self.h, self.key_size])\n",
        "        value = tf.transpose(value, [0, 2, 1, 3])\n",
        "        \n",
        "        # Compute the dot score\n",
        "        # and divide the score by square root of key_size (as stated in paper)\n",
        "        # (must convert key_size to float32 otherwise an error would occur)\n",
        "        score = tf.matmul(query, key, transpose_b=True) / tf.math.sqrt(tf.dtypes.cast(self.key_size, dtype=tf.float32))\n",
        "        # score will have shape of (batch, h, query_len, value_len)\n",
        "        \n",
        "        # Mask out the score if a mask is provided\n",
        "        # There are two types of mask:\n",
        "        # - Padding mask (batch, 1, 1, value_len): to prevent attention being drawn to padded token (i.e. 0)\n",
        "        # - Look-left mask (batch, 1, query_len, value_len): to prevent decoder to draw attention to tokens to the right\n",
        "        if mask is not None:\n",
        "            score *= mask\n",
        "\n",
        "            # We want the masked out values to be zeros when applying softmax\n",
        "            # One way to accomplish that is assign them to a very large negative value\n",
        "            score = tf.where(tf.equal(score, 0), tf.ones_like(score) * -1e9, score)\n",
        "        \n",
        "        # Alignment vector: (batch, h, query_len, value_len)\n",
        "        alignment = tf.nn.softmax(score, axis=-1)\n",
        "        \n",
        "        # Context vector: (batch, h, query_len, key_size)\n",
        "        context = tf.matmul(alignment, value)\n",
        "        \n",
        "        # Finally, do the opposite to have a tensor of shape (batch, query_len, model_size)\n",
        "        context = tf.transpose(context, [0, 2, 1, 3])\n",
        "        context = tf.reshape(context, [batch_size, -1, self.key_size * self.h])\n",
        "        \n",
        "        # Apply one last full connected layer (WO)\n",
        "        heads = self.wo(context)\n",
        "        \n",
        "        return heads, alignment"
      ],
      "execution_count": 0,
      "outputs": []
    },
    {
      "cell_type": "markdown",
      "metadata": {
        "id": "bjdTPndICfEu",
        "colab_type": "text"
      },
      "source": [
        "### The Encoder"
      ]
    },
    {
      "cell_type": "code",
      "metadata": {
        "id": "pP3f3nloAg5R",
        "colab_type": "code",
        "colab": {}
      },
      "source": [
        "\"\"\"## Create the Encoder\"\"\"\n",
        "\n",
        "\n",
        "class Encoder(tf.keras.Model):\n",
        "    \"\"\" Class for the Encoder\n",
        "    Args:\n",
        "        model_size: d_model in the paper (depth size of the model)\n",
        "        num_layers: number of layers (Multi-Head Attention + FNN)\n",
        "        h: number of attention heads\n",
        "        embedding: Embedding layer\n",
        "        embedding_dropout: Dropout layer for Embedding\n",
        "        attention: array of Multi-Head Attention layers\n",
        "        attention_dropout: array of Dropout layers for Multi-Head Attention\n",
        "        attention_norm: array of LayerNorm layers for Multi-Head Attention\n",
        "        dense_1: array of first Dense layers for FFN\n",
        "        dense_2: array of second Dense layers for FFN\n",
        "        ffn_dropout: array of Dropout layers for FFN\n",
        "        ffn_norm: array of LayerNorm layers for FFN\n",
        "    \"\"\"\n",
        "    def __init__(self, vocab_size, model_size, num_layers, h):\n",
        "        super(Encoder, self).__init__()\n",
        "        self.model_size = model_size\n",
        "        self.num_layers = num_layers\n",
        "        self.h = h\n",
        "        self.embedding = tf.keras.layers.Embedding(vocab_size, model_size)\n",
        "        self.embedding_dropout = tf.keras.layers.Dropout(0.1)\n",
        "        self.attention = [MultiHeadAttention(model_size, h) for _ in range(num_layers)]\n",
        "        self.attention_dropout = [tf.keras.layers.Dropout(0.1) for _ in range(num_layers)]\n",
        "\n",
        "        self.attention_norm = [tf.keras.layers.LayerNormalization(\n",
        "            epsilon=1e-6) for _ in range(num_layers)]\n",
        "\n",
        "        self.dense_1 = [tf.keras.layers.Dense(\n",
        "            MODEL_SIZE * 4, activation='relu') for _ in range(num_layers)]\n",
        "        self.dense_2 = [tf.keras.layers.Dense(\n",
        "            model_size) for _ in range(num_layers)]\n",
        "        self.ffn_dropout = [tf.keras.layers.Dropout(0.1) for _ in range(num_layers)]\n",
        "        self.ffn_norm = [tf.keras.layers.LayerNormalization(\n",
        "            epsilon=1e-6) for _ in range(num_layers)]\n",
        "\n",
        "    def call(self, sequence, training=True, encoder_mask=None):\n",
        "        \"\"\" Forward pass for the Encoder\n",
        "        Args:\n",
        "            sequence: source input sequences\n",
        "            training: whether training or not (for Dropout)\n",
        "            encoder_mask: padding mask for the Encoder's Multi-Head Attention\n",
        "        \n",
        "        Returns:\n",
        "            The output of the Encoder (batch_size, length, model_size)\n",
        "            The alignment (attention) vectors for all layers\n",
        "        \"\"\"\n",
        "        embed_out = self.embedding(sequence)\n",
        "\n",
        "        embed_out *= tf.math.sqrt(tf.cast(self.model_size, tf.float32))\n",
        "        embed_out += pes[:sequence.shape[1], :]\n",
        "        embed_out = self.embedding_dropout(embed_out)\n",
        "\n",
        "        sub_in = embed_out\n",
        "        alignments = []\n",
        "\n",
        "        for i in range(self.num_layers):\n",
        "            sub_out, alignment = self.attention[i](sub_in, sub_in, encoder_mask)\n",
        "            sub_out = self.attention_dropout[i](sub_out, training=training)\n",
        "            sub_out = sub_in + sub_out\n",
        "            sub_out = self.attention_norm[i](sub_out)\n",
        "            \n",
        "            alignments.append(alignment)\n",
        "            ffn_in = sub_out\n",
        "\n",
        "            ffn_out = self.dense_2[i](self.dense_1[i](ffn_in))\n",
        "            ffn_out = self.ffn_dropout[i](ffn_out, training=training)\n",
        "            ffn_out = ffn_in + ffn_out\n",
        "            ffn_out = self.ffn_norm[i](ffn_out)\n",
        "\n",
        "            sub_in = ffn_out\n",
        "\n",
        "        return ffn_out, alignments"
      ],
      "execution_count": 0,
      "outputs": []
    },
    {
      "cell_type": "markdown",
      "metadata": {
        "id": "6pxeATn-Cxzv",
        "colab_type": "text"
      },
      "source": [
        "### Create an instance of the Encoder"
      ]
    },
    {
      "cell_type": "code",
      "metadata": {
        "id": "Z-iSrjyYA8ws",
        "colab_type": "code",
        "outputId": "ab94883d-aa07-4aba-ed7e-8f21f81a8715",
        "colab": {
          "base_uri": "https://localhost:8080/"
        }
      },
      "source": [
        "H = 8\n",
        "NUM_LAYERS = 4\n",
        "vocab_size = len(tt_tokenizer.word_index) + 1\n",
        "encoder = Encoder(vocab_size, MODEL_SIZE, NUM_LAYERS, H)\n",
        "print(vocab_size)\n",
        "sequence_in = tf.constant([[1, 2, 3, 0, 0]])\n",
        "encoder_output, _ = encoder(sequence_in)\n",
        "encoder_output.shape"
      ],
      "execution_count": 8,
      "outputs": [
        {
          "output_type": "stream",
          "text": [
            "72060\n"
          ],
          "name": "stdout"
        },
        {
          "output_type": "execute_result",
          "data": {
            "text/plain": [
              "TensorShape([Dimension(1), Dimension(5), Dimension(128)])"
            ]
          },
          "metadata": {
            "tags": []
          },
          "execution_count": 8
        }
      ]
    },
    {
      "cell_type": "markdown",
      "metadata": {
        "id": "XShJ6Z0mCvyo",
        "colab_type": "text"
      },
      "source": [
        "### The Decoder"
      ]
    },
    {
      "cell_type": "code",
      "metadata": {
        "id": "OH6eFjbmBAfH",
        "colab_type": "code",
        "colab": {}
      },
      "source": [
        "class Decoder(tf.keras.Model):\n",
        "    \"\"\" Class for the Decoder\n",
        "    Args:\n",
        "        model_size: d_model in the paper (depth size of the model)\n",
        "        num_layers: number of layers (Multi-Head Attention + FNN)\n",
        "        h: number of attention heads\n",
        "        embedding: Embedding layer\n",
        "        embedding_dropout: Dropout layer for Embedding\n",
        "        attention_bot: array of bottom Multi-Head Attention layers (self attention)\n",
        "        attention_bot_dropout: array of Dropout layers for bottom Multi-Head Attention\n",
        "        attention_bot_norm: array of LayerNorm layers for bottom Multi-Head Attention\n",
        "        attention_mid: array of middle Multi-Head Attention layers\n",
        "        attention_mid_dropout: array of Dropout layers for middle Multi-Head Attention\n",
        "        attention_mid_norm: array of LayerNorm layers for middle Multi-Head Attention\n",
        "        dense_1: array of first Dense layers for FFN\n",
        "        dense_2: array of second Dense layers for FFN\n",
        "        ffn_dropout: array of Dropout layers for FFN\n",
        "        ffn_norm: array of LayerNorm layers for FFN\n",
        "        dense: Dense layer to compute final output\n",
        "    \"\"\"\n",
        "    def __init__(self, vocab_size, model_size, num_layers, h):\n",
        "        super(Decoder, self).__init__()\n",
        "        self.model_size = model_size\n",
        "        self.num_layers = num_layers\n",
        "        self.h = h\n",
        "        self.embedding = tf.keras.layers.Embedding(vocab_size, model_size)\n",
        "        self.embedding_dropout = tf.keras.layers.Dropout(0.1)\n",
        "        self.attention_bot = [MultiHeadAttention(model_size, h) for _ in range(num_layers)]\n",
        "        self.attention_bot_dropout = [tf.keras.layers.Dropout(0.1) for _ in range(num_layers)]\n",
        "        self.attention_bot_norm = [tf.keras.layers.LayerNormalization(\n",
        "            epsilon=1e-6) for _ in range(num_layers)]\n",
        "        self.attention_mid = [MultiHeadAttention(model_size, h) for _ in range(num_layers)]\n",
        "        self.attention_mid_dropout = [tf.keras.layers.Dropout(0.1) for _ in range(num_layers)]\n",
        "        self.attention_mid_norm = [tf.keras.layers.LayerNormalization(\n",
        "            epsilon=1e-6) for _ in range(num_layers)]\n",
        "\n",
        "        self.dense_1 = [tf.keras.layers.Dense(\n",
        "            MODEL_SIZE * 4, activation='relu') for _ in range(num_layers)]\n",
        "        self.dense_2 = [tf.keras.layers.Dense(\n",
        "            model_size) for _ in range(num_layers)]\n",
        "        self.ffn_dropout = [tf.keras.layers.Dropout(0.1) for _ in range(num_layers)]\n",
        "        self.ffn_norm = [tf.keras.layers.LayerNormalization(\n",
        "            epsilon=1e-6) for _ in range(num_layers)]\n",
        "\n",
        "        self.dense = tf.keras.layers.Dense(vocab_size)\n",
        "\n",
        "    def call(self, sequence, encoder_output, training=True, encoder_mask=None):\n",
        "        \"\"\" Forward pass for the Decoder\n",
        "        Args:\n",
        "            sequence: source input sequences\n",
        "            encoder_output: output of the Encoder (for computing middle attention)\n",
        "            training: whether training or not (for Dropout)\n",
        "            encoder_mask: padding mask for the Encoder's Multi-Head Attention\n",
        "        \n",
        "        Returns:\n",
        "            The output of the Encoder (batch_size, length, model_size)\n",
        "            The bottom alignment (attention) vectors for all layers\n",
        "            The middle alignment (attention) vectors for all layers\n",
        "        \"\"\"\n",
        "        # EMBEDDING AND POSITIONAL EMBEDDING\n",
        "        embed_out = self.embedding(sequence)\n",
        "\n",
        "        embed_out *= tf.math.sqrt(tf.cast(self.model_size, tf.float32))\n",
        "        embed_out += pes[:sequence.shape[1], :]\n",
        "        embed_out = self.embedding_dropout(embed_out)\n",
        "\n",
        "        bot_sub_in = embed_out\n",
        "        bot_alignments = []\n",
        "        mid_alignments = []\n",
        "\n",
        "        for i in range(self.num_layers):\n",
        "            # BOTTOM MULTIHEAD SUB LAYER\n",
        "            seq_len = bot_sub_in.shape[1]\n",
        "\n",
        "            if training:\n",
        "                mask = tf.linalg.band_part(tf.ones((seq_len, seq_len)), -1, 0)\n",
        "            else:\n",
        "                mask = None\n",
        "            bot_sub_out, bot_alignment = self.attention_bot[i](bot_sub_in, bot_sub_in, mask)\n",
        "            bot_sub_out = self.attention_bot_dropout[i](bot_sub_out, training=training)\n",
        "            bot_sub_out = bot_sub_in + bot_sub_out\n",
        "            bot_sub_out = self.attention_bot_norm[i](bot_sub_out)\n",
        "            \n",
        "            bot_alignments.append(bot_alignment)\n",
        "\n",
        "            # MIDDLE MULTIHEAD SUB LAYER\n",
        "            mid_sub_in = bot_sub_out\n",
        "\n",
        "            mid_sub_out, mid_alignment = self.attention_mid[i](\n",
        "                mid_sub_in, encoder_output, encoder_mask)\n",
        "            mid_sub_out = self.attention_mid_dropout[i](mid_sub_out, training=training)\n",
        "            mid_sub_out = mid_sub_out + mid_sub_in\n",
        "            mid_sub_out = self.attention_mid_norm[i](mid_sub_out)\n",
        "            \n",
        "            mid_alignments.append(mid_alignment)\n",
        "\n",
        "            # FFN\n",
        "            ffn_in = mid_sub_out\n",
        "\n",
        "            ffn_out = self.dense_2[i](self.dense_1[i](ffn_in))\n",
        "            ffn_out = self.ffn_dropout[i](ffn_out, training=training)\n",
        "            ffn_out = ffn_out + ffn_in\n",
        "            ffn_out = self.ffn_norm[i](ffn_out)\n",
        "\n",
        "            bot_sub_in = ffn_out\n",
        "\n",
        "        logits = self.dense(ffn_out)\n",
        "\n",
        "        return logits, bot_alignments, mid_alignments"
      ],
      "execution_count": 0,
      "outputs": []
    },
    {
      "cell_type": "markdown",
      "metadata": {
        "id": "19DfjeaxCilt",
        "colab_type": "text"
      },
      "source": [
        "### Create an instance of the Decoder"
      ]
    },
    {
      "cell_type": "code",
      "metadata": {
        "id": "WDLPEA30BDjT",
        "colab_type": "code",
        "outputId": "40202116-daf1-4d89-a649-5de08e4e1d86",
        "colab": {
          "base_uri": "https://localhost:8080/"
        }
      },
      "source": [
        "vocab_size = len(ru_tokenizer.word_index) + 1\n",
        "decoder = Decoder(vocab_size, MODEL_SIZE, NUM_LAYERS, H)\n",
        "\n",
        "sequence_in = tf.constant([[14, 24, 31, 0, 0]])\n",
        "decoder_output, _, _ = decoder(sequence_in, encoder_output)\n",
        "decoder_output.shape"
      ],
      "execution_count": 10,
      "outputs": [
        {
          "output_type": "stream",
          "text": [
            "WARNING:tensorflow:From <ipython-input-6-7eda3fbc8b8a>:72: where (from tensorflow.python.ops.array_ops) is deprecated and will be removed in a future version.\n",
            "Instructions for updating:\n",
            "Use tf.where in 2.0, which has the same broadcast rule as np.where\n"
          ],
          "name": "stdout"
        },
        {
          "output_type": "execute_result",
          "data": {
            "text/plain": [
              "TensorShape([Dimension(1), Dimension(5), Dimension(64643)])"
            ]
          },
          "metadata": {
            "tags": []
          },
          "execution_count": 10
        }
      ]
    },
    {
      "cell_type": "markdown",
      "metadata": {
        "id": "vBYEswwMC01W",
        "colab_type": "text"
      },
      "source": [
        "### Loss function"
      ]
    },
    {
      "cell_type": "code",
      "metadata": {
        "id": "5CmFGkJ2BMOT",
        "colab_type": "code",
        "colab": {}
      },
      "source": [
        "crossentropy = tf.keras.losses.SparseCategoricalCrossentropy(\n",
        "    from_logits=True)\n",
        "\n",
        "\n",
        "def loss_func(targets, logits):\n",
        "    mask = tf.math.logical_not(tf.math.equal(targets, 0))\n",
        "    mask = tf.cast(mask, dtype=tf.int64)\n",
        "    loss = crossentropy(targets, logits, sample_weight=mask)\n",
        "\n",
        "    return loss"
      ],
      "execution_count": 0,
      "outputs": []
    },
    {
      "cell_type": "markdown",
      "metadata": {
        "id": "VjVxUv2tC3MM",
        "colab_type": "text"
      },
      "source": [
        "### Learning rate scheduling and optimization"
      ]
    },
    {
      "cell_type": "code",
      "metadata": {
        "id": "wwgwnb-3BNhN",
        "colab_type": "code",
        "colab": {}
      },
      "source": [
        "class WarmupThenDecaySchedule(tf.keras.optimizers.schedules.LearningRateSchedule):\n",
        "    \"\"\" Learning schedule for training the Transformer\n",
        "    Attributes:\n",
        "        model_size: d_model in the paper (depth size of the model)\n",
        "        warmup_steps: number of warmup steps at the beginning\n",
        "    \"\"\"\n",
        "    def __init__(self, model_size, warmup_steps=4000):\n",
        "        super(WarmupThenDecaySchedule, self).__init__()\n",
        "\n",
        "        self.model_size = model_size\n",
        "        self.model_size = tf.cast(self.model_size, tf.float32)\n",
        "\n",
        "        self.warmup_steps = warmup_steps\n",
        "\n",
        "    def __call__(self, step):\n",
        "        step_term = tf.math.rsqrt(step)\n",
        "        warmup_term = step * (self.warmup_steps ** -1.5)\n",
        "\n",
        "        return tf.math.rsqrt(self.model_size) * tf.math.minimum(step_term, warmup_term)\n",
        "\n",
        "\n",
        "lr = WarmupThenDecaySchedule(MODEL_SIZE)\n",
        "optimizer = tf.keras.optimizers.Adam(lr,\n",
        "                                     beta_1=0.9,\n",
        "                                     beta_2=0.98,\n",
        "                                     epsilon=1e-9)"
      ],
      "execution_count": 0,
      "outputs": []
    },
    {
      "cell_type": "markdown",
      "metadata": {
        "id": "xMvgwyoDC9ks",
        "colab_type": "text"
      },
      "source": [
        "### The predict function"
      ]
    },
    {
      "cell_type": "code",
      "metadata": {
        "id": "jRqSWlTcBPq2",
        "colab_type": "code",
        "colab": {}
      },
      "source": [
        "def predict(test_source_text=None):\n",
        "    \"\"\" Predict the output sentence for a given input sentence\n",
        "    Args:\n",
        "        test_source_text: input sentence (raw string)\n",
        "    \n",
        "    Returns:\n",
        "        The encoder's attention vectors\n",
        "        The decoder's bottom attention vectors\n",
        "        The decoder's middle attention vectors\n",
        "        The input string array (input sentence split by ' ')\n",
        "        The output string array\n",
        "    \"\"\"\n",
        "    if test_source_text is None:\n",
        "        test_source_text = raw_data_tt[np.random.choice(len(raw_data_tt))]\n",
        "    print(test_source_text)\n",
        "    test_source_seq = tt_tokenizer.texts_to_sequences([test_source_text])\n",
        "    print(test_source_seq)\n",
        "\n",
        "    en_output, en_alignments = encoder(tf.constant(test_source_seq), training=False)\n",
        "\n",
        "    de_input = tf.constant(\n",
        "        [[ru_tokenizer.word_index['<start>']]], dtype=tf.int64)\n",
        "\n",
        "    out_words = []\n",
        "\n",
        "    while True:\n",
        "        de_output, de_bot_alignments, de_mid_alignments = decoder(de_input, en_output, training=False)\n",
        "        new_word = tf.expand_dims(tf.argmax(de_output, -1)[:, -1], axis=1)\n",
        "        out_words.append(ru_tokenizer.index_word[new_word.numpy()[0][0]])\n",
        "\n",
        "        # Transformer doesn't have sequential mechanism (i.e. states)\n",
        "        # so we have to add the last predicted word to create a new input sequence\n",
        "        de_input = tf.concat((de_input, new_word), axis=-1)\n",
        "\n",
        "        # TODO: get a nicer constraint for the sequence length!\n",
        "        if out_words[-1] == '<end>' or len(out_words) >= 14:\n",
        "            break\n",
        "\n",
        "    print(' '.join(out_words))\n",
        "    return en_alignments, de_bot_alignments, de_mid_alignments, test_source_text.split(' '), out_words"
      ],
      "execution_count": 0,
      "outputs": []
    },
    {
      "cell_type": "markdown",
      "metadata": {
        "id": "fn4MBXCOC_jB",
        "colab_type": "text"
      },
      "source": [
        "### The train_step function"
      ]
    },
    {
      "cell_type": "code",
      "metadata": {
        "id": "tiUJ7_Y5BSAz",
        "colab_type": "code",
        "colab": {}
      },
      "source": [
        "@tf.function\n",
        "def train_step(source_seq, target_seq_in, target_seq_out):\n",
        "    \"\"\" Execute one training step (forward pass + backward pass)\n",
        "    Args:\n",
        "        source_seq: source sequences\n",
        "        target_seq_in: input target sequences (<start> + ...)\n",
        "        target_seq_out: output target sequences (... + <end>)\n",
        "    \n",
        "    Returns:\n",
        "        The loss value of the current pass\n",
        "    \"\"\"\n",
        "    with tf.GradientTape() as tape:\n",
        "        encoder_mask = 1 - tf.cast(tf.equal(source_seq, 0), dtype=tf.float32)\n",
        "        # encoder_mask has shape (batch_size, source_len)\n",
        "        # we need to add two more dimensions in between\n",
        "        # to make it broadcastable when computing attention heads\n",
        "        encoder_mask = tf.expand_dims(encoder_mask, axis=1)\n",
        "        encoder_mask = tf.expand_dims(encoder_mask, axis=1)\n",
        "        encoder_output, _ = encoder(source_seq, encoder_mask=encoder_mask)\n",
        "\n",
        "        decoder_output, _, _ = decoder(\n",
        "            target_seq_in, encoder_output, encoder_mask=encoder_mask)\n",
        "\n",
        "        loss = loss_func(target_seq_out, decoder_output)\n",
        "\n",
        "    variables = encoder.trainable_variables + decoder.trainable_variables\n",
        "    gradients = tape.gradient(loss, variables)\n",
        "    optimizer.apply_gradients(zip(gradients, variables))\n",
        "\n",
        "    return loss"
      ],
      "execution_count": 0,
      "outputs": []
    },
    {
      "cell_type": "markdown",
      "metadata": {
        "id": "B5H0UbfNDB4S",
        "colab_type": "text"
      },
      "source": [
        "### The training loop"
      ]
    },
    {
      "cell_type": "code",
      "metadata": {
        "id": "tyXdcoI3BTz6",
        "colab_type": "code",
        "outputId": "9795259f-2971-4a07-87e9-09811a18ea71",
        "colab": {
          "base_uri": "https://localhost:8080/",
          "height": 1000
        }
      },
      "source": [
        "NUM_EPOCHS = 35\n",
        "import pandas as pd\n",
        "starttime = time.time()\n",
        "for e in range(NUM_EPOCHS):\n",
        "    for batch, (source_seq, target_seq_in, target_seq_out) in enumerate(dataset.take(-1)):\n",
        "        loss = train_step(source_seq, target_seq_in,\n",
        "                          target_seq_out)\n",
        "        if batch % 60 == 0:\n",
        "            print('Epoch {} Batch {} Loss {:.4f} Elapsed time {:.2f}s'.format(\n",
        "                e + 1, batch, loss.numpy(), time.time() - starttime))\n",
        "            starttime = time.time()\n",
        "            table = pd.DataFrame(index=time.time(), columns= ['Loss'])\n",
        "\n",
        "    try:\n",
        "        predict()\n",
        "    except Exception as e:\n",
        "        print(e)\n",
        "        continue"
      ],
      "execution_count": 43,
      "outputs": [
        {
          "output_type": "stream",
          "text": [
            "Epoch 1 Batch 0 Loss 1.0140 Elapsed time 0.57s\n",
            "Epoch 1 Batch 60 Loss 0.9570 Elapsed time 25.63s\n",
            "Epoch 1 Batch 120 Loss 0.8968 Elapsed time 25.93s\n",
            "Epoch 1 Batch 180 Loss 0.8501 Elapsed time 25.52s\n",
            "Epoch 1 Batch 240 Loss 0.7644 Elapsed time 25.50s\n",
            "Epoch 1 Batch 300 Loss 0.9342 Elapsed time 25.60s\n",
            "Epoch 1 Batch 360 Loss 0.8236 Elapsed time 25.60s\n",
            "Epoch 1 Batch 420 Loss 0.7742 Elapsed time 25.59s\n",
            "Epoch 1 Batch 480 Loss 0.8510 Elapsed time 25.55s\n",
            "Epoch 1 Batch 540 Loss 0.8630 Elapsed time 25.69s\n",
            "Epoch 1 Batch 600 Loss 0.7614 Elapsed time 25.63s\n",
            "Epoch 1 Batch 660 Loss 0.8535 Elapsed time 25.66s\n",
            "Epoch 1 Batch 720 Loss 0.6867 Elapsed time 25.61s\n",
            "Epoch 1 Batch 780 Loss 0.8249 Elapsed time 25.67s\n",
            "Epoch 1 Batch 840 Loss 0.7739 Elapsed time 25.66s\n",
            "Epoch 1 Batch 900 Loss 0.7445 Elapsed time 25.66s\n",
            "Яңа елны быел бездә каршы алабыз дип .\n",
            "[[108, 1683, 1484, 677, 141, 3285, 12, 1]]\n",
            "он не было не было . <end>\n",
            "Epoch 2 Batch 0 Loss 0.7774 Elapsed time 19.91s\n",
            "Epoch 2 Batch 60 Loss 0.7841 Elapsed time 25.62s\n",
            "Epoch 2 Batch 120 Loss 0.7679 Elapsed time 25.72s\n",
            "Epoch 2 Batch 180 Loss 0.7593 Elapsed time 25.68s\n",
            "Epoch 2 Batch 240 Loss 0.6845 Elapsed time 25.68s\n",
            "Epoch 2 Batch 300 Loss 0.8271 Elapsed time 25.75s\n",
            "Epoch 2 Batch 360 Loss 0.7373 Elapsed time 25.55s\n",
            "Epoch 2 Batch 420 Loss 0.6866 Elapsed time 25.62s\n",
            "Epoch 2 Batch 480 Loss 0.7635 Elapsed time 25.69s\n",
            "Epoch 2 Batch 540 Loss 0.7787 Elapsed time 25.66s\n",
            "Epoch 2 Batch 600 Loss 0.6876 Elapsed time 25.63s\n",
            "Epoch 2 Batch 660 Loss 0.7718 Elapsed time 25.81s\n",
            "Epoch 2 Batch 720 Loss 0.6263 Elapsed time 25.74s\n",
            "Epoch 2 Batch 780 Loss 0.7526 Elapsed time 25.54s\n",
            "Epoch 2 Batch 840 Loss 0.7036 Elapsed time 25.87s\n",
            "Epoch 2 Batch 900 Loss 0.6818 Elapsed time 25.95s\n",
            "Фатихәттәй әйткәнчә үк булмаса да, түшәмнәр, стеналар чыннан да шактый каралган шул .\n",
            "[[640, 10798, 104, 1467, 26, 38193, 8709, 393, 2, 156, 6021, 20, 1]]\n",
            "он не мог не мог быть и не мог бы не мог не мог\n",
            "Epoch 3 Batch 0 Loss 0.7133 Elapsed time 15.67s\n",
            "Epoch 3 Batch 60 Loss 0.7173 Elapsed time 26.09s\n",
            "Epoch 3 Batch 120 Loss 0.7107 Elapsed time 25.81s\n",
            "Epoch 3 Batch 180 Loss 0.7120 Elapsed time 26.12s\n",
            "Epoch 3 Batch 240 Loss 0.6348 Elapsed time 25.81s\n",
            "Epoch 3 Batch 300 Loss 0.7614 Elapsed time 25.90s\n",
            "Epoch 3 Batch 360 Loss 0.6823 Elapsed time 25.87s\n",
            "Epoch 3 Batch 420 Loss 0.6290 Elapsed time 25.77s\n",
            "Epoch 3 Batch 480 Loss 0.7054 Elapsed time 25.99s\n",
            "Epoch 3 Batch 540 Loss 0.7234 Elapsed time 25.87s\n",
            "Epoch 3 Batch 600 Loss 0.6425 Elapsed time 25.96s\n",
            "Epoch 3 Batch 660 Loss 0.7073 Elapsed time 25.78s\n",
            "Epoch 3 Batch 720 Loss 0.5696 Elapsed time 25.85s\n",
            "Epoch 3 Batch 780 Loss 0.6869 Elapsed time 25.91s\n",
            "Epoch 3 Batch 840 Loss 0.6454 Elapsed time 25.79s\n",
            "Epoch 3 Batch 900 Loss 0.6305 Elapsed time 25.90s\n",
            "Операциягә ул риза булмады, гомерем күп калмагандыр, газапланасым килми, диде .\n",
            "[[4274, 3, 644, 2213, 3202, 90, 23589, 38858, 2078, 21, 1]]\n",
            "он не мог не мог бы не может быть бы не только не только\n",
            "Epoch 4 Batch 0 Loss 0.6628 Elapsed time 15.45s\n",
            "Epoch 4 Batch 60 Loss 0.6562 Elapsed time 25.77s\n",
            "Epoch 4 Batch 120 Loss 0.6494 Elapsed time 25.83s\n",
            "Epoch 4 Batch 180 Loss 0.6526 Elapsed time 25.83s\n",
            "Epoch 4 Batch 240 Loss 0.5777 Elapsed time 26.11s\n",
            "Epoch 4 Batch 300 Loss 0.7242 Elapsed time 25.82s\n",
            "Epoch 4 Batch 360 Loss 0.6159 Elapsed time 25.92s\n",
            "Epoch 4 Batch 420 Loss 0.5717 Elapsed time 25.82s\n",
            "Epoch 4 Batch 480 Loss 0.6377 Elapsed time 25.79s\n",
            "Epoch 4 Batch 540 Loss 0.6698 Elapsed time 25.92s\n",
            "Epoch 4 Batch 600 Loss 0.5795 Elapsed time 25.92s\n",
            "Epoch 4 Batch 660 Loss 0.6492 Elapsed time 25.99s\n",
            "Epoch 4 Batch 720 Loss 0.5247 Elapsed time 25.90s\n",
            "Epoch 4 Batch 780 Loss 0.6384 Elapsed time 26.00s\n",
            "Epoch 4 Batch 840 Loss 0.5931 Elapsed time 25.97s\n",
            "Epoch 4 Batch 900 Loss 0.5786 Elapsed time 26.01s\n",
            "Туганда ул кеше иде; аякларын, кулларын үзе теләгәнчә селкетергә ихтыярлы, муенын теләгәнчә борудан, күзләре белән теләгән җиргә караудан аны берәү дә тыя алмый иде .\n",
            "[[13806, 3, 25, 5928, 53184, 431, 39, 4761, 53185, 53186, 5308, 4761, 53187, 214, 6, 1379, 299, 27391, 24, 689, 5, 3008, 185, 4, 1]]\n",
            "он не мог быть с ним и не зная, что он не мог быть\n",
            "Epoch 5 Batch 0 Loss 0.6100 Elapsed time 15.65s\n",
            "Epoch 5 Batch 60 Loss 0.6188 Elapsed time 26.09s\n",
            "Epoch 5 Batch 120 Loss 0.5960 Elapsed time 26.18s\n",
            "Epoch 5 Batch 180 Loss 0.6006 Elapsed time 26.03s\n",
            "Epoch 5 Batch 240 Loss 0.5377 Elapsed time 26.09s\n",
            "Epoch 5 Batch 300 Loss 0.6545 Elapsed time 26.01s\n",
            "Epoch 5 Batch 360 Loss 0.5679 Elapsed time 25.88s\n",
            "Epoch 5 Batch 420 Loss 0.5342 Elapsed time 25.85s\n",
            "Epoch 5 Batch 480 Loss 0.6071 Elapsed time 25.87s\n",
            "Epoch 5 Batch 540 Loss 0.6291 Elapsed time 25.81s\n",
            "Epoch 5 Batch 600 Loss 0.5307 Elapsed time 25.77s\n",
            "Epoch 5 Batch 660 Loss 0.5896 Elapsed time 25.80s\n",
            "Epoch 5 Batch 720 Loss 0.4789 Elapsed time 25.80s\n",
            "Epoch 5 Batch 780 Loss 0.5782 Elapsed time 25.74s\n",
            "Epoch 5 Batch 840 Loss 0.5473 Elapsed time 25.75s\n",
            "Epoch 5 Batch 900 Loss 0.5284 Elapsed time 25.74s\n",
            "Нәҗип, мольбертын күтәргән килеш, өйгә узды .\n",
            "[[5445, 43403, 1557, 1200, 360, 827, 1]]\n",
            "макаев подошел к окну . <end>\n",
            "Epoch 6 Batch 0 Loss 0.5534 Elapsed time 14.88s\n",
            "Epoch 6 Batch 60 Loss 0.5657 Elapsed time 25.74s\n",
            "Epoch 6 Batch 120 Loss 0.5402 Elapsed time 25.71s\n",
            "Epoch 6 Batch 180 Loss 0.5432 Elapsed time 25.87s\n",
            "Epoch 6 Batch 240 Loss 0.4841 Elapsed time 25.70s\n",
            "Epoch 6 Batch 300 Loss 0.6077 Elapsed time 25.75s\n",
            "Epoch 6 Batch 360 Loss 0.5178 Elapsed time 25.74s\n",
            "Epoch 6 Batch 420 Loss 0.4859 Elapsed time 25.78s\n",
            "Epoch 6 Batch 480 Loss 0.5586 Elapsed time 25.77s\n",
            "Epoch 6 Batch 540 Loss 0.5687 Elapsed time 25.72s\n",
            "Epoch 6 Batch 600 Loss 0.4994 Elapsed time 25.77s\n",
            "Epoch 6 Batch 660 Loss 0.5401 Elapsed time 25.72s\n",
            "Epoch 6 Batch 720 Loss 0.4402 Elapsed time 25.77s\n",
            "Epoch 6 Batch 780 Loss 0.5275 Elapsed time 25.79s\n",
            "Epoch 6 Batch 840 Loss 0.5013 Elapsed time 25.78s\n",
            "Epoch 6 Batch 900 Loss 0.4790 Elapsed time 25.76s\n",
            "Тәлгатькә, техникумга керермен, дип язган иде, ярар, анысы качмас, көтеп торыр әле .\n",
            "[[60156, 19739, 13703, 12, 572, 91, 891, 563, 13060, 346, 1701, 19, 1]]\n",
            "я не думал, что он будет ходить по сторонам, чтобы он не сможет прийти\n",
            "Epoch 7 Batch 0 Loss 0.5083 Elapsed time 15.36s\n",
            "Epoch 7 Batch 60 Loss 0.5155 Elapsed time 25.73s\n",
            "Epoch 7 Batch 120 Loss 0.5025 Elapsed time 25.75s\n",
            "Epoch 7 Batch 180 Loss 0.5116 Elapsed time 25.85s\n",
            "Epoch 7 Batch 240 Loss 0.4500 Elapsed time 25.71s\n",
            "Epoch 7 Batch 300 Loss 0.5483 Elapsed time 25.70s\n",
            "Epoch 7 Batch 360 Loss 0.4731 Elapsed time 25.87s\n",
            "Epoch 7 Batch 420 Loss 0.4374 Elapsed time 25.70s\n",
            "Epoch 7 Batch 480 Loss 0.5145 Elapsed time 25.78s\n",
            "Epoch 7 Batch 540 Loss 0.5328 Elapsed time 25.69s\n",
            "Epoch 7 Batch 600 Loss 0.4453 Elapsed time 25.75s\n",
            "Epoch 7 Batch 660 Loss 0.4948 Elapsed time 25.77s\n",
            "Epoch 7 Batch 720 Loss 0.3933 Elapsed time 25.73s\n",
            "Epoch 7 Batch 780 Loss 0.4851 Elapsed time 25.69s\n",
            "Epoch 7 Batch 840 Loss 0.4670 Elapsed time 25.68s\n",
            "Epoch 7 Batch 900 Loss 0.4434 Elapsed time 25.87s\n",
            "Белсә килер иде… Әнисеннән әтисе хакында берничә мәртәбә сорап та караган иде, әмма әнисе бу хакта сөйләргә яратмый .\n",
            "[[5075, 1174, 5967, 10419, 421, 676, 173, 488, 792, 63, 1021, 91, 82, 377, 8, 660, 930, 2753, 1]]\n",
            "хотелось бы поскорее бы поскорее не рассказать о несколько раз о аминэ . <end>\n",
            "Epoch 8 Batch 0 Loss 0.4725 Elapsed time 15.38s\n",
            "Epoch 8 Batch 60 Loss 0.4806 Elapsed time 25.73s\n",
            "Epoch 8 Batch 120 Loss 0.4574 Elapsed time 25.85s\n",
            "Epoch 8 Batch 180 Loss 0.4769 Elapsed time 25.77s\n",
            "Epoch 8 Batch 240 Loss 0.4297 Elapsed time 25.77s\n",
            "Epoch 8 Batch 300 Loss 0.4960 Elapsed time 25.82s\n",
            "Epoch 8 Batch 360 Loss 0.4386 Elapsed time 25.80s\n",
            "Epoch 8 Batch 420 Loss 0.4097 Elapsed time 25.68s\n",
            "Epoch 8 Batch 480 Loss 0.4933 Elapsed time 25.70s\n",
            "Epoch 8 Batch 540 Loss 0.5026 Elapsed time 25.79s\n",
            "Epoch 8 Batch 600 Loss 0.4157 Elapsed time 25.64s\n",
            "Epoch 8 Batch 660 Loss 0.4590 Elapsed time 25.67s\n",
            "Epoch 8 Batch 720 Loss 0.3697 Elapsed time 25.74s\n",
            "Epoch 8 Batch 780 Loss 0.4519 Elapsed time 25.78s\n",
            "Epoch 8 Batch 840 Loss 0.4395 Elapsed time 25.86s\n",
            "Epoch 8 Batch 900 Loss 0.4078 Elapsed time 25.81s\n",
            "Юк, гаиләдә бәхетле мин .\n",
            "[[55, 4630, 448, 10, 1]]\n",
            "нет, я был в семье . <end>\n",
            "Epoch 9 Batch 0 Loss 0.4360 Elapsed time 15.05s\n",
            "Epoch 9 Batch 60 Loss 0.4548 Elapsed time 25.70s\n",
            "Epoch 9 Batch 120 Loss 0.4352 Elapsed time 25.72s\n",
            "Epoch 9 Batch 180 Loss 0.4480 Elapsed time 25.72s\n",
            "Epoch 9 Batch 240 Loss 0.4032 Elapsed time 25.67s\n",
            "Epoch 9 Batch 300 Loss 0.4605 Elapsed time 25.77s\n",
            "Epoch 9 Batch 360 Loss 0.4108 Elapsed time 25.75s\n",
            "Epoch 9 Batch 420 Loss 0.3863 Elapsed time 25.70s\n",
            "Epoch 9 Batch 480 Loss 0.4577 Elapsed time 25.73s\n",
            "Epoch 9 Batch 540 Loss 0.4694 Elapsed time 25.73s\n",
            "Epoch 9 Batch 600 Loss 0.3881 Elapsed time 25.68s\n",
            "Epoch 9 Batch 660 Loss 0.4282 Elapsed time 25.73s\n",
            "Epoch 9 Batch 720 Loss 0.3526 Elapsed time 25.85s\n",
            "Epoch 9 Batch 780 Loss 0.4316 Elapsed time 25.63s\n",
            "Epoch 9 Batch 840 Loss 0.4077 Elapsed time 25.75s\n",
            "Epoch 9 Batch 900 Loss 0.3884 Elapsed time 25.76s\n",
            "Америкалылар, безгә гуманитар ярдәм йөзеннән, әлеге электрон почтаны эшләп бирделәр .\n",
            "[[55809, 167, 27925, 395, 21691, 256, 10094, 55810, 576, 1418, 1]]\n",
            "от того, чтобы не вызвали к себе права избавиться от того, чтобы вы избавиться\n",
            "Epoch 10 Batch 0 Loss 0.4153 Elapsed time 15.40s\n",
            "Epoch 10 Batch 60 Loss 0.4287 Elapsed time 25.72s\n",
            "Epoch 10 Batch 120 Loss 0.4111 Elapsed time 25.71s\n",
            "Epoch 10 Batch 180 Loss 0.4215 Elapsed time 25.71s\n",
            "Epoch 10 Batch 240 Loss 0.3762 Elapsed time 25.74s\n",
            "Epoch 10 Batch 300 Loss 0.4464 Elapsed time 25.69s\n",
            "Epoch 10 Batch 360 Loss 0.3743 Elapsed time 25.77s\n",
            "Epoch 10 Batch 420 Loss 0.3600 Elapsed time 25.69s\n",
            "Epoch 10 Batch 480 Loss 0.4294 Elapsed time 25.72s\n",
            "Epoch 10 Batch 540 Loss 0.4316 Elapsed time 25.68s\n",
            "Epoch 10 Batch 600 Loss 0.3752 Elapsed time 25.70s\n",
            "Epoch 10 Batch 660 Loss 0.4094 Elapsed time 25.63s\n",
            "Epoch 10 Batch 720 Loss 0.3192 Elapsed time 25.73s\n",
            "Epoch 10 Batch 780 Loss 0.4050 Elapsed time 25.72s\n",
            "Epoch 10 Batch 840 Loss 0.3868 Elapsed time 25.70s\n",
            "Epoch 10 Batch 900 Loss 0.3836 Elapsed time 25.67s\n",
            "Нәкъ шулчак звонок шалтырады .\n",
            "[[211, 557, 3612, 5569, 1]]\n",
            "в момент раздался звонок . <end>\n",
            "Epoch 11 Batch 0 Loss 0.3967 Elapsed time 14.91s\n",
            "Epoch 11 Batch 60 Loss 0.3945 Elapsed time 25.68s\n",
            "Epoch 11 Batch 120 Loss 0.3937 Elapsed time 25.80s\n",
            "Epoch 11 Batch 180 Loss 0.3974 Elapsed time 25.68s\n",
            "Epoch 11 Batch 240 Loss 0.3547 Elapsed time 25.82s\n",
            "Epoch 11 Batch 300 Loss 0.4245 Elapsed time 25.69s\n",
            "Epoch 11 Batch 360 Loss 0.3514 Elapsed time 25.73s\n",
            "Epoch 11 Batch 420 Loss 0.3376 Elapsed time 25.71s\n",
            "Epoch 11 Batch 480 Loss 0.4041 Elapsed time 25.67s\n",
            "Epoch 11 Batch 540 Loss 0.4158 Elapsed time 25.75s\n",
            "Epoch 11 Batch 600 Loss 0.3522 Elapsed time 25.70s\n",
            "Epoch 11 Batch 660 Loss 0.3993 Elapsed time 25.69s\n",
            "Epoch 11 Batch 720 Loss 0.3036 Elapsed time 25.71s\n",
            "Epoch 11 Batch 780 Loss 0.3757 Elapsed time 25.75s\n",
            "Epoch 11 Batch 840 Loss 0.3652 Elapsed time 25.68s\n",
            "Epoch 11 Batch 900 Loss 0.3449 Elapsed time 25.71s\n",
            "Кайчандыр Миләүшә мәктәбендә алар әүвәл Сабир белән бер партада утырып укыдылар .\n",
            "[[974, 2801, 7461, 38, 2494, 653, 6, 7, 26376, 622, 26377, 1]]\n",
            "когда-то в одной руке должен идти к матери, а к нему на одной руке\n",
            "Epoch 12 Batch 0 Loss 0.3616 Elapsed time 15.46s\n",
            "Epoch 12 Batch 60 Loss 0.3861 Elapsed time 25.75s\n",
            "Epoch 12 Batch 120 Loss 0.3795 Elapsed time 25.80s\n",
            "Epoch 12 Batch 180 Loss 0.3779 Elapsed time 25.83s\n",
            "Epoch 12 Batch 240 Loss 0.3312 Elapsed time 26.04s\n",
            "Epoch 12 Batch 300 Loss 0.4060 Elapsed time 26.16s\n",
            "Epoch 12 Batch 360 Loss 0.3290 Elapsed time 25.99s\n",
            "Epoch 12 Batch 420 Loss 0.3174 Elapsed time 25.84s\n",
            "Epoch 12 Batch 480 Loss 0.3827 Elapsed time 25.88s\n",
            "Epoch 12 Batch 540 Loss 0.4015 Elapsed time 25.86s\n",
            "Epoch 12 Batch 600 Loss 0.3267 Elapsed time 25.74s\n",
            "Epoch 12 Batch 660 Loss 0.3794 Elapsed time 25.70s\n",
            "Epoch 12 Batch 720 Loss 0.2997 Elapsed time 25.76s\n",
            "Epoch 12 Batch 780 Loss 0.3747 Elapsed time 25.74s\n",
            "Epoch 12 Batch 840 Loss 0.3562 Elapsed time 25.78s\n",
            "Epoch 12 Batch 900 Loss 0.3345 Elapsed time 25.74s\n",
            "Киресенчә, олы бер эштән, җаваплылыктан котылган кеше кебек дәртләнеп, көлеп-елмаеп йөри башлады .\n",
            "[[879, 357, 7, 17528, 16088, 16160, 25, 42, 11518, 20186, 188, 73, 1]]\n",
            "наоборот, он и смеялся, словно который начинает жить с тем, что он начинает ходить\n",
            "Epoch 13 Batch 0 Loss 0.3453 Elapsed time 15.41s\n",
            "Epoch 13 Batch 60 Loss 0.3660 Elapsed time 25.76s\n",
            "Epoch 13 Batch 120 Loss 0.3648 Elapsed time 25.70s\n",
            "Epoch 13 Batch 180 Loss 0.3596 Elapsed time 25.86s\n",
            "Epoch 13 Batch 240 Loss 0.3249 Elapsed time 26.31s\n",
            "Epoch 13 Batch 300 Loss 0.3848 Elapsed time 26.23s\n",
            "Epoch 13 Batch 360 Loss 0.3243 Elapsed time 26.00s\n",
            "Epoch 13 Batch 420 Loss 0.3174 Elapsed time 25.80s\n",
            "Epoch 13 Batch 480 Loss 0.3816 Elapsed time 25.98s\n",
            "Epoch 13 Batch 540 Loss 0.3966 Elapsed time 25.90s\n",
            "Epoch 13 Batch 600 Loss 0.3224 Elapsed time 25.70s\n",
            "Epoch 13 Batch 660 Loss 0.3568 Elapsed time 25.77s\n",
            "Epoch 13 Batch 720 Loss 0.2911 Elapsed time 25.87s\n",
            "Epoch 13 Batch 780 Loss 0.3494 Elapsed time 25.65s\n",
            "Epoch 13 Batch 840 Loss 0.3524 Elapsed time 25.79s\n",
            "Epoch 13 Batch 900 Loss 0.3275 Elapsed time 25.79s\n",
            "Менә шулай итеп, мәсьәләләр чишә-чишә ярты төн узды .\n",
            "[[23, 33, 277, 7476, 39876, 514, 411, 827, 1]]\n",
            "вот так и прошла прошла прошла прошла прошла прошла прошла прошла ночь . <end>\n",
            "Epoch 14 Batch 0 Loss 0.3412 Elapsed time 15.32s\n",
            "Epoch 14 Batch 60 Loss 0.3530 Elapsed time 25.85s\n",
            "Epoch 14 Batch 120 Loss 0.3644 Elapsed time 25.79s\n",
            "Epoch 14 Batch 180 Loss 0.3526 Elapsed time 25.74s\n",
            "Epoch 14 Batch 240 Loss 0.3102 Elapsed time 25.72s\n",
            "Epoch 14 Batch 300 Loss 0.3739 Elapsed time 25.89s\n",
            "Epoch 14 Batch 360 Loss 0.3060 Elapsed time 25.86s\n",
            "Epoch 14 Batch 420 Loss 0.2985 Elapsed time 25.64s\n",
            "Epoch 14 Batch 480 Loss 0.3773 Elapsed time 25.87s\n",
            "Epoch 14 Batch 540 Loss 0.3905 Elapsed time 25.66s\n",
            "Epoch 14 Batch 600 Loss 0.2901 Elapsed time 25.70s\n",
            "Epoch 14 Batch 660 Loss 0.3521 Elapsed time 25.68s\n",
            "Epoch 14 Batch 720 Loss 0.2838 Elapsed time 25.69s\n",
            "Epoch 14 Batch 780 Loss 0.3404 Elapsed time 25.78s\n",
            "Epoch 14 Batch 840 Loss 0.3437 Elapsed time 25.69s\n",
            "Epoch 14 Batch 900 Loss 0.3136 Elapsed time 25.78s\n",
            "Ундүрт яшендә диген бит әле !\n",
            "[[7889, 13503, 2672, 22, 19, 9]]\n",
            "скажи, что в состоянии ! <end>\n",
            "Epoch 15 Batch 0 Loss 0.3358 Elapsed time 15.25s\n",
            "Epoch 15 Batch 60 Loss 0.3485 Elapsed time 26.32s\n",
            "Epoch 15 Batch 120 Loss 0.3486 Elapsed time 26.35s\n",
            "Epoch 15 Batch 180 Loss 0.3352 Elapsed time 25.94s\n",
            "Epoch 15 Batch 240 Loss 0.3076 Elapsed time 25.94s\n",
            "Epoch 15 Batch 300 Loss 0.3547 Elapsed time 25.89s\n",
            "Epoch 15 Batch 360 Loss 0.2998 Elapsed time 25.93s\n",
            "Epoch 15 Batch 420 Loss 0.2907 Elapsed time 25.87s\n",
            "Epoch 15 Batch 480 Loss 0.3498 Elapsed time 25.74s\n",
            "Epoch 15 Batch 540 Loss 0.3700 Elapsed time 25.87s\n",
            "Epoch 15 Batch 600 Loss 0.2904 Elapsed time 25.83s\n",
            "Epoch 15 Batch 660 Loss 0.3574 Elapsed time 25.84s\n",
            "Epoch 15 Batch 720 Loss 0.2621 Elapsed time 25.83s\n",
            "Epoch 15 Batch 780 Loss 0.3376 Elapsed time 25.92s\n",
            "Epoch 15 Batch 840 Loss 0.3109 Elapsed time 25.90s\n",
            "Epoch 15 Batch 900 Loss 0.2987 Elapsed time 26.05s\n",
            "Бүген Зиннуров хастаханәгә иртүк килде .\n",
            "[[80, 1499, 993, 4020, 116, 1]]\n",
            "сегодня рано утром зиннуров пришел рано утром . <end>\n",
            "Epoch 16 Batch 0 Loss 0.3296 Elapsed time 15.12s\n",
            "Epoch 16 Batch 60 Loss 0.3419 Elapsed time 25.73s\n",
            "Epoch 16 Batch 120 Loss 0.3222 Elapsed time 25.85s\n",
            "Epoch 16 Batch 180 Loss 0.3208 Elapsed time 25.76s\n",
            "Epoch 16 Batch 240 Loss 0.2896 Elapsed time 25.75s\n",
            "Epoch 16 Batch 300 Loss 0.3417 Elapsed time 25.82s\n",
            "Epoch 16 Batch 360 Loss 0.2986 Elapsed time 25.76s\n",
            "Epoch 16 Batch 420 Loss 0.2756 Elapsed time 25.89s\n",
            "Epoch 16 Batch 480 Loss 0.3497 Elapsed time 25.74s\n",
            "Epoch 16 Batch 540 Loss 0.3501 Elapsed time 25.85s\n",
            "Epoch 16 Batch 600 Loss 0.2896 Elapsed time 25.99s\n",
            "Epoch 16 Batch 660 Loss 0.3433 Elapsed time 25.86s\n",
            "Epoch 16 Batch 720 Loss 0.2532 Elapsed time 25.75s\n",
            "Epoch 16 Batch 780 Loss 0.3268 Elapsed time 25.65s\n",
            "Epoch 16 Batch 840 Loss 0.3092 Elapsed time 25.70s\n",
            "Epoch 16 Batch 900 Loss 0.2963 Elapsed time 25.76s\n",
            "Бабакай, мин рояль уйныйм, Ләйлә апа сезгә җырлап күрсәтер,диде дә рояль янына барып утырды .\n",
            "[[27458, 10, 3967, 27460, 3909, 430, 205, 1896, 24857, 5, 3967, 69, 133, 240, 1]]\n",
            "дедушка, дедушка, я позвал вам сказал, что вернусь к вам и сел за луг\n",
            "Epoch 17 Batch 0 Loss 0.3229 Elapsed time 15.30s\n",
            "Epoch 17 Batch 60 Loss 0.3341 Elapsed time 26.40s\n",
            "Epoch 17 Batch 120 Loss 0.3374 Elapsed time 26.74s\n",
            "Epoch 17 Batch 180 Loss 0.3254 Elapsed time 26.43s\n",
            "Epoch 17 Batch 240 Loss 0.2761 Elapsed time 26.34s\n",
            "Epoch 17 Batch 300 Loss 0.3299 Elapsed time 26.59s\n",
            "Epoch 17 Batch 360 Loss 0.2739 Elapsed time 26.38s\n",
            "Epoch 17 Batch 420 Loss 0.2625 Elapsed time 26.61s\n",
            "Epoch 17 Batch 480 Loss 0.3302 Elapsed time 26.49s\n",
            "Epoch 17 Batch 540 Loss 0.3454 Elapsed time 26.50s\n",
            "Epoch 17 Batch 600 Loss 0.2812 Elapsed time 26.56s\n",
            "Epoch 17 Batch 660 Loss 0.3309 Elapsed time 26.81s\n",
            "Epoch 17 Batch 720 Loss 0.2482 Elapsed time 26.64s\n",
            "Epoch 17 Batch 780 Loss 0.3098 Elapsed time 26.73s\n",
            "Epoch 17 Batch 840 Loss 0.3017 Elapsed time 26.73s\n",
            "Epoch 17 Batch 900 Loss 0.2782 Elapsed time 26.77s\n",
            "Улының бүген үзен бик тә бирелеп тыңлавы аның күңелен тәмам йомшаткан иде .\n",
            "[[5032, 80, 234, 16, 45, 3009, 21454, 11, 569, 335, 62723, 4, 1]]\n",
            "сегодня его сердце его окончательно была его мама . <end>\n",
            "Epoch 18 Batch 0 Loss 0.3173 Elapsed time 15.77s\n",
            "Epoch 18 Batch 60 Loss 0.3269 Elapsed time 26.41s\n",
            "Epoch 18 Batch 120 Loss 0.3184 Elapsed time 26.42s\n",
            "Epoch 18 Batch 180 Loss 0.3094 Elapsed time 26.84s\n",
            "Epoch 18 Batch 240 Loss 0.2771 Elapsed time 26.59s\n",
            "Epoch 18 Batch 300 Loss 0.3244 Elapsed time 26.65s\n",
            "Epoch 18 Batch 360 Loss 0.2796 Elapsed time 26.69s\n",
            "Epoch 18 Batch 420 Loss 0.2586 Elapsed time 26.75s\n",
            "Epoch 18 Batch 480 Loss 0.3269 Elapsed time 26.79s\n",
            "Epoch 18 Batch 540 Loss 0.3356 Elapsed time 26.57s\n",
            "Epoch 18 Batch 600 Loss 0.2843 Elapsed time 26.71s\n",
            "Epoch 18 Batch 660 Loss 0.3350 Elapsed time 26.75s\n",
            "Epoch 18 Batch 720 Loss 0.2378 Elapsed time 26.78s\n",
            "Epoch 18 Batch 780 Loss 0.2962 Elapsed time 26.74s\n",
            "Epoch 18 Batch 840 Loss 0.2957 Elapsed time 26.98s\n",
            "Epoch 18 Batch 900 Loss 0.2765 Elapsed time 26.73s\n",
            "Әмма шунысы бар болай эшләү эчтән авыр, эчтән кыен иде Таһирга .\n",
            "[[82, 2643, 30, 131, 2648, 1066, 1888, 1066, 665, 4, 1626, 1]]\n",
            "но тагиру так трудно понять, что это понять, что очень приятно . <end>\n",
            "Epoch 19 Batch 0 Loss 0.3018 Elapsed time 16.15s\n",
            "Epoch 19 Batch 60 Loss 0.3205 Elapsed time 26.82s\n",
            "Epoch 19 Batch 120 Loss 0.3128 Elapsed time 26.81s\n",
            "Epoch 19 Batch 180 Loss 0.3111 Elapsed time 26.76s\n",
            "Epoch 19 Batch 240 Loss 0.2784 Elapsed time 26.81s\n",
            "Epoch 19 Batch 300 Loss 0.3140 Elapsed time 26.71s\n",
            "Epoch 19 Batch 360 Loss 0.2677 Elapsed time 26.37s\n",
            "Epoch 19 Batch 420 Loss 0.2489 Elapsed time 26.32s\n",
            "Epoch 19 Batch 480 Loss 0.3128 Elapsed time 26.57s\n",
            "Epoch 19 Batch 540 Loss 0.3352 Elapsed time 26.44s\n",
            "Epoch 19 Batch 600 Loss 0.2751 Elapsed time 26.64s\n",
            "Epoch 19 Batch 660 Loss 0.3256 Elapsed time 26.66s\n",
            "Epoch 19 Batch 720 Loss 0.2492 Elapsed time 26.80s\n",
            "Epoch 19 Batch 780 Loss 0.2872 Elapsed time 26.34s\n",
            "Epoch 19 Batch 840 Loss 0.2963 Elapsed time 26.45s\n",
            "Epoch 19 Batch 900 Loss 0.2705 Elapsed time 26.44s\n",
            "Миңа калса, эш башкада иде . . .\n",
            "[[58, 1204, 86, 23204, 4, 1, 1, 1]]\n",
            "мне кажется, дело в другом . . . <end>\n",
            "Epoch 20 Batch 0 Loss 0.3036 Elapsed time 15.56s\n",
            "Epoch 20 Batch 60 Loss 0.3176 Elapsed time 26.33s\n",
            "Epoch 20 Batch 120 Loss 0.3033 Elapsed time 26.34s\n",
            "Epoch 20 Batch 180 Loss 0.3014 Elapsed time 26.24s\n",
            "Epoch 20 Batch 240 Loss 0.2646 Elapsed time 26.66s\n",
            "Epoch 20 Batch 300 Loss 0.3118 Elapsed time 26.82s\n",
            "Epoch 20 Batch 360 Loss 0.2669 Elapsed time 26.83s\n",
            "Epoch 20 Batch 420 Loss 0.2467 Elapsed time 26.80s\n",
            "Epoch 20 Batch 480 Loss 0.3101 Elapsed time 26.95s\n",
            "Epoch 20 Batch 540 Loss 0.3291 Elapsed time 26.89s\n",
            "Epoch 20 Batch 600 Loss 0.2765 Elapsed time 26.85s\n",
            "Epoch 20 Batch 660 Loss 0.3234 Elapsed time 26.85s\n",
            "Epoch 20 Batch 720 Loss 0.2487 Elapsed time 26.96s\n",
            "Epoch 20 Batch 780 Loss 0.2891 Elapsed time 26.65s\n",
            "Epoch 20 Batch 840 Loss 0.2866 Elapsed time 26.20s\n",
            "Epoch 20 Batch 900 Loss 0.2682 Elapsed time 26.10s\n",
            "Беләсеңме, без әтине бик олылап искә алабыз бит .\n",
            "[[3187, 49, 7005, 16, 21549, 425, 3285, 22, 1]]\n",
            "знаешь, с большим криком . <end>\n",
            "Epoch 21 Batch 0 Loss 0.2885 Elapsed time 15.11s\n",
            "Epoch 21 Batch 60 Loss 0.3076 Elapsed time 26.04s\n",
            "Epoch 21 Batch 120 Loss 0.3001 Elapsed time 26.19s\n",
            "Epoch 21 Batch 180 Loss 0.2948 Elapsed time 26.44s\n",
            "Epoch 21 Batch 240 Loss 0.2590 Elapsed time 26.50s\n",
            "Epoch 21 Batch 300 Loss 0.3086 Elapsed time 26.33s\n",
            "Epoch 21 Batch 360 Loss 0.2567 Elapsed time 26.21s\n",
            "Epoch 21 Batch 420 Loss 0.2322 Elapsed time 26.69s\n",
            "Epoch 21 Batch 480 Loss 0.3074 Elapsed time 26.45s\n",
            "Epoch 21 Batch 540 Loss 0.3248 Elapsed time 26.81s\n",
            "Epoch 21 Batch 600 Loss 0.2641 Elapsed time 26.80s\n",
            "Epoch 21 Batch 660 Loss 0.3020 Elapsed time 26.83s\n",
            "Epoch 21 Batch 720 Loss 0.2369 Elapsed time 26.87s\n",
            "Epoch 21 Batch 780 Loss 0.2820 Elapsed time 26.88s\n",
            "Epoch 21 Batch 840 Loss 0.2828 Elapsed time 26.81s\n",
            "Epoch 21 Batch 900 Loss 0.2548 Elapsed time 26.67s\n",
            "Үзем дә рецензия турында кичә генә белдем . . .\n",
            "[[165, 5, 29497, 57, 459, 13, 4096, 1, 1, 1]]\n",
            "я вчера перед ними узнал о да и раньше . . . <end>\n",
            "Epoch 22 Batch 0 Loss 0.2878 Elapsed time 15.99s\n",
            "Epoch 22 Batch 60 Loss 0.2909 Elapsed time 26.71s\n",
            "Epoch 22 Batch 120 Loss 0.2882 Elapsed time 26.59s\n",
            "Epoch 22 Batch 180 Loss 0.2945 Elapsed time 26.65s\n",
            "Epoch 22 Batch 240 Loss 0.2456 Elapsed time 26.71s\n",
            "Epoch 22 Batch 300 Loss 0.2995 Elapsed time 26.65s\n",
            "Epoch 22 Batch 360 Loss 0.2434 Elapsed time 26.83s\n",
            "Epoch 22 Batch 420 Loss 0.2398 Elapsed time 26.38s\n",
            "Epoch 22 Batch 480 Loss 0.3074 Elapsed time 26.62s\n",
            "Epoch 22 Batch 540 Loss 0.3153 Elapsed time 26.70s\n",
            "Epoch 22 Batch 600 Loss 0.2489 Elapsed time 26.71s\n",
            "Epoch 22 Batch 660 Loss 0.3110 Elapsed time 26.67s\n",
            "Epoch 22 Batch 720 Loss 0.2314 Elapsed time 26.59s\n",
            "Epoch 22 Batch 780 Loss 0.2720 Elapsed time 26.70s\n",
            "Epoch 22 Batch 840 Loss 0.2792 Elapsed time 26.78s\n",
            "Epoch 22 Batch 900 Loss 0.2429 Elapsed time 26.59s\n",
            "әни, аклангандай итеп, авыр сулап куйды .\n",
            "[[2545, 17634, 277, 182, 1205, 83, 1]]\n",
            "мама, вздохнул тяжело вздохнул . <end>\n",
            "Epoch 23 Batch 0 Loss 0.2841 Elapsed time 15.07s\n",
            "Epoch 23 Batch 60 Loss 0.3006 Elapsed time 26.23s\n",
            "Epoch 23 Batch 120 Loss 0.2869 Elapsed time 26.12s\n",
            "Epoch 23 Batch 180 Loss 0.2892 Elapsed time 26.16s\n",
            "Epoch 23 Batch 240 Loss 0.2492 Elapsed time 26.80s\n",
            "Epoch 23 Batch 300 Loss 0.2952 Elapsed time 26.50s\n",
            "Epoch 23 Batch 360 Loss 0.2377 Elapsed time 26.73s\n",
            "Epoch 23 Batch 420 Loss 0.2282 Elapsed time 26.66s\n",
            "Epoch 23 Batch 480 Loss 0.2914 Elapsed time 26.63s\n",
            "Epoch 23 Batch 540 Loss 0.3162 Elapsed time 26.68s\n",
            "Epoch 23 Batch 600 Loss 0.2537 Elapsed time 26.56s\n",
            "Epoch 23 Batch 660 Loss 0.3027 Elapsed time 26.65s\n",
            "Epoch 23 Batch 720 Loss 0.2311 Elapsed time 26.64s\n",
            "Epoch 23 Batch 780 Loss 0.2782 Elapsed time 26.70s\n",
            "Epoch 23 Batch 840 Loss 0.2709 Elapsed time 26.71s\n",
            "Epoch 23 Batch 900 Loss 0.2421 Elapsed time 26.68s\n",
            "Менә кичә туй балдагымны сатып акча юнәттем .\n",
            "[[23, 459, 1170, 52233, 1035, 270, 52234, 1]]\n",
            "вчера путь к теперь улицу упал . <end>\n",
            "Epoch 24 Batch 0 Loss 0.2747 Elapsed time 15.72s\n",
            "Epoch 24 Batch 60 Loss 0.2998 Elapsed time 26.51s\n",
            "Epoch 24 Batch 120 Loss 0.2832 Elapsed time 26.40s\n",
            "Epoch 24 Batch 180 Loss 0.2812 Elapsed time 26.31s\n",
            "Epoch 24 Batch 240 Loss 0.2407 Elapsed time 26.24s\n",
            "Epoch 24 Batch 300 Loss 0.2914 Elapsed time 26.36s\n",
            "Epoch 24 Batch 360 Loss 0.2394 Elapsed time 26.32s\n",
            "Epoch 24 Batch 420 Loss 0.2158 Elapsed time 26.33s\n",
            "Epoch 24 Batch 480 Loss 0.2878 Elapsed time 26.04s\n",
            "Epoch 24 Batch 540 Loss 0.3106 Elapsed time 26.07s\n",
            "Epoch 24 Batch 600 Loss 0.2412 Elapsed time 26.06s\n",
            "Epoch 24 Batch 660 Loss 0.3015 Elapsed time 26.10s\n",
            "Epoch 24 Batch 720 Loss 0.2213 Elapsed time 26.09s\n",
            "Epoch 24 Batch 780 Loss 0.2637 Elapsed time 26.05s\n",
            "Epoch 24 Batch 840 Loss 0.2687 Elapsed time 26.05s\n",
            "Epoch 24 Batch 900 Loss 0.2345 Elapsed time 25.96s\n",
            "Әхсән, алдан сөйләшеп куелганча, кичәне башлап җи­бәрер өчен берничә генә сүз әйтеп китәргә тиеш иде .\n",
            "[[2927, 687, 413, 45123, 8786, 1051, 45124, 28, 173, 13, 67, 243, 386, 113, 4, 1]]\n",
            "ахтэм мог разобраться уже тяжелее . <end>\n",
            "Epoch 25 Batch 0 Loss 0.2636 Elapsed time 15.08s\n",
            "Epoch 25 Batch 60 Loss 0.2965 Elapsed time 25.97s\n",
            "Epoch 25 Batch 120 Loss 0.2793 Elapsed time 25.90s\n",
            "Epoch 25 Batch 180 Loss 0.2824 Elapsed time 25.92s\n",
            "Epoch 25 Batch 240 Loss 0.2374 Elapsed time 25.84s\n",
            "Epoch 25 Batch 300 Loss 0.2910 Elapsed time 25.97s\n",
            "Epoch 25 Batch 360 Loss 0.2366 Elapsed time 25.81s\n",
            "Epoch 25 Batch 420 Loss 0.2231 Elapsed time 25.89s\n",
            "Epoch 25 Batch 480 Loss 0.2827 Elapsed time 25.89s\n",
            "Epoch 25 Batch 540 Loss 0.3034 Elapsed time 25.71s\n",
            "Epoch 25 Batch 600 Loss 0.2499 Elapsed time 25.75s\n",
            "Epoch 25 Batch 660 Loss 0.2969 Elapsed time 25.86s\n",
            "Epoch 25 Batch 720 Loss 0.2195 Elapsed time 25.83s\n",
            "Epoch 25 Batch 780 Loss 0.2589 Elapsed time 25.76s\n",
            "Epoch 25 Batch 840 Loss 0.2623 Elapsed time 25.87s\n",
            "Epoch 25 Batch 900 Loss 0.2302 Elapsed time 25.74s\n",
            "Ләкин мине фронтка, частема җибәрегез,диде .\n",
            "[[27, 95, 30559, 30560, 30561, 1]]\n",
            "но он сказал, что должен был надеть на меня тахир или что на этом\n",
            "Epoch 26 Batch 0 Loss 0.2679 Elapsed time 15.32s\n",
            "Epoch 26 Batch 60 Loss 0.2900 Elapsed time 25.70s\n",
            "Epoch 26 Batch 120 Loss 0.2747 Elapsed time 25.76s\n",
            "Epoch 26 Batch 180 Loss 0.2759 Elapsed time 25.65s\n",
            "Epoch 26 Batch 240 Loss 0.2269 Elapsed time 25.82s\n",
            "Epoch 26 Batch 300 Loss 0.2745 Elapsed time 25.77s\n",
            "Epoch 26 Batch 360 Loss 0.2298 Elapsed time 25.79s\n",
            "Epoch 26 Batch 420 Loss 0.2155 Elapsed time 25.96s\n",
            "Epoch 26 Batch 480 Loss 0.2869 Elapsed time 25.96s\n",
            "Epoch 26 Batch 540 Loss 0.2957 Elapsed time 25.92s\n",
            "Epoch 26 Batch 600 Loss 0.2367 Elapsed time 25.77s\n",
            "Epoch 26 Batch 660 Loss 0.2928 Elapsed time 26.09s\n",
            "Epoch 26 Batch 720 Loss 0.2181 Elapsed time 26.97s\n",
            "Epoch 26 Batch 780 Loss 0.2600 Elapsed time 26.51s\n",
            "Epoch 26 Batch 840 Loss 0.2533 Elapsed time 26.37s\n",
            "Epoch 26 Batch 900 Loss 0.2274 Elapsed time 26.71s\n",
            "Лагерь йокыга талган иде .\n",
            "[[3497, 1312, 9503, 4, 1]]\n",
            "лежал навстречу . <end>\n",
            "Epoch 27 Batch 0 Loss 0.2557 Elapsed time 15.28s\n",
            "Epoch 27 Batch 60 Loss 0.2849 Elapsed time 26.51s\n",
            "Epoch 27 Batch 120 Loss 0.2647 Elapsed time 26.48s\n",
            "Epoch 27 Batch 180 Loss 0.2673 Elapsed time 26.46s\n",
            "Epoch 27 Batch 240 Loss 0.2299 Elapsed time 26.47s\n",
            "Epoch 27 Batch 300 Loss 0.2736 Elapsed time 26.46s\n",
            "Epoch 27 Batch 360 Loss 0.2286 Elapsed time 26.79s\n",
            "Epoch 27 Batch 420 Loss 0.2079 Elapsed time 26.62s\n",
            "Epoch 27 Batch 480 Loss 0.2786 Elapsed time 26.82s\n",
            "Epoch 27 Batch 540 Loss 0.2851 Elapsed time 26.67s\n",
            "Epoch 27 Batch 600 Loss 0.2357 Elapsed time 26.69s\n",
            "Epoch 27 Batch 660 Loss 0.2921 Elapsed time 26.66s\n",
            "Epoch 27 Batch 720 Loss 0.2122 Elapsed time 26.58s\n",
            "Epoch 27 Batch 780 Loss 0.2542 Elapsed time 26.66s\n",
            "Epoch 27 Batch 840 Loss 0.2525 Elapsed time 26.29s\n",
            "Epoch 27 Batch 900 Loss 0.2321 Elapsed time 26.57s\n",
            "Үзенең уйлап табулары белән заводка берничә мең сумнар экономия бирде .\n",
            "[[89, 263, 26916, 6, 2687, 173, 400, 26917, 10307, 261, 1]]\n",
            "свое десять передали друга к завод, прежде всего передали неделю . <end>\n",
            "Epoch 28 Batch 0 Loss 0.2603 Elapsed time 15.79s\n",
            "Epoch 28 Batch 60 Loss 0.2811 Elapsed time 26.62s\n",
            "Epoch 28 Batch 120 Loss 0.2697 Elapsed time 26.66s\n",
            "Epoch 28 Batch 180 Loss 0.2655 Elapsed time 26.58s\n",
            "Epoch 28 Batch 240 Loss 0.2271 Elapsed time 26.18s\n",
            "Epoch 28 Batch 300 Loss 0.2622 Elapsed time 26.11s\n",
            "Epoch 28 Batch 360 Loss 0.2205 Elapsed time 26.20s\n",
            "Epoch 28 Batch 420 Loss 0.2026 Elapsed time 26.26s\n",
            "Epoch 28 Batch 480 Loss 0.2736 Elapsed time 26.24s\n",
            "Epoch 28 Batch 540 Loss 0.2949 Elapsed time 26.25s\n",
            "Epoch 28 Batch 600 Loss 0.2370 Elapsed time 26.37s\n",
            "Epoch 28 Batch 660 Loss 0.2842 Elapsed time 26.75s\n",
            "Epoch 28 Batch 720 Loss 0.2043 Elapsed time 26.31s\n",
            "Epoch 28 Batch 780 Loss 0.2445 Elapsed time 26.65s\n",
            "Epoch 28 Batch 840 Loss 0.2503 Elapsed time 26.56s\n",
            "Epoch 28 Batch 900 Loss 0.2191 Elapsed time 26.71s\n",
            "Хәтәр шартлауга кадәр язып җибәргән хатын да хәтерли Булат .\n",
            "[[1867, 19791, 103, 693, 1318, 365, 2, 4717, 627, 1]]\n",
            "булат старательно успел довести до рынка . <end>\n",
            "Epoch 29 Batch 0 Loss 0.2495 Elapsed time 15.58s\n",
            "Epoch 29 Batch 60 Loss 0.2727 Elapsed time 26.57s\n",
            "Epoch 29 Batch 120 Loss 0.2657 Elapsed time 26.66s\n",
            "Epoch 29 Batch 180 Loss 0.2627 Elapsed time 26.51s\n",
            "Epoch 29 Batch 240 Loss 0.2219 Elapsed time 26.49s\n",
            "Epoch 29 Batch 300 Loss 0.2655 Elapsed time 26.19s\n",
            "Epoch 29 Batch 360 Loss 0.2208 Elapsed time 26.37s\n",
            "Epoch 29 Batch 420 Loss 0.1980 Elapsed time 26.30s\n",
            "Epoch 29 Batch 480 Loss 0.2692 Elapsed time 26.16s\n",
            "Epoch 29 Batch 540 Loss 0.2886 Elapsed time 26.31s\n",
            "Epoch 29 Batch 600 Loss 0.2292 Elapsed time 26.75s\n",
            "Epoch 29 Batch 660 Loss 0.2806 Elapsed time 26.51s\n",
            "Epoch 29 Batch 720 Loss 0.2110 Elapsed time 26.71s\n",
            "Epoch 29 Batch 780 Loss 0.2467 Elapsed time 26.71s\n",
            "Epoch 29 Batch 840 Loss 0.2548 Elapsed time 26.64s\n",
            "Epoch 29 Batch 900 Loss 0.2155 Elapsed time 26.72s\n",
            "Аның матур йөзенә алсулык йөгерде .\n",
            "[[11, 227, 473, 3407, 1185, 1]]\n",
            "его красивое лицо сияло роза . <end>\n",
            "Epoch 30 Batch 0 Loss 0.2468 Elapsed time 15.61s\n",
            "Epoch 30 Batch 60 Loss 0.2698 Elapsed time 26.61s\n",
            "Epoch 30 Batch 120 Loss 0.2555 Elapsed time 26.72s\n",
            "Epoch 30 Batch 180 Loss 0.2551 Elapsed time 26.75s\n",
            "Epoch 30 Batch 240 Loss 0.2232 Elapsed time 26.43s\n",
            "Epoch 30 Batch 300 Loss 0.2551 Elapsed time 26.51s\n",
            "Epoch 30 Batch 360 Loss 0.2118 Elapsed time 26.64s\n",
            "Epoch 30 Batch 420 Loss 0.2062 Elapsed time 26.66s\n",
            "Epoch 30 Batch 480 Loss 0.2630 Elapsed time 26.62s\n",
            "Epoch 30 Batch 540 Loss 0.2841 Elapsed time 26.73s\n",
            "Epoch 30 Batch 600 Loss 0.2344 Elapsed time 26.34s\n",
            "Epoch 30 Batch 660 Loss 0.2797 Elapsed time 26.41s\n",
            "Epoch 30 Batch 720 Loss 0.2018 Elapsed time 26.41s\n",
            "Epoch 30 Batch 780 Loss 0.2429 Elapsed time 26.73s\n",
            "Epoch 30 Batch 840 Loss 0.2441 Elapsed time 26.42s\n",
            "Epoch 30 Batch 900 Loss 0.2136 Elapsed time 26.58s\n",
            "Проводница купесы яныннан узганда, Мотыйк тагын кесәсеннән акча чыгарды .\n",
            "[[5449, 59312, 956, 19255, 1288, 40, 977, 270, 715, 1]]\n",
            "проходя руки мотык однако вынул деньги . <end>\n",
            "Epoch 31 Batch 0 Loss 0.2424 Elapsed time 15.67s\n",
            "Epoch 31 Batch 60 Loss 0.2668 Elapsed time 26.81s\n",
            "Epoch 31 Batch 120 Loss 0.2501 Elapsed time 26.75s\n",
            "Epoch 31 Batch 180 Loss 0.2646 Elapsed time 26.82s\n",
            "Epoch 31 Batch 240 Loss 0.2131 Elapsed time 26.87s\n",
            "Epoch 31 Batch 300 Loss 0.2546 Elapsed time 26.88s\n",
            "Epoch 31 Batch 360 Loss 0.2104 Elapsed time 26.84s\n",
            "Epoch 31 Batch 420 Loss 0.1980 Elapsed time 26.74s\n",
            "Epoch 31 Batch 480 Loss 0.2644 Elapsed time 26.78s\n",
            "Epoch 31 Batch 540 Loss 0.2753 Elapsed time 26.79s\n",
            "Epoch 31 Batch 600 Loss 0.2243 Elapsed time 26.55s\n",
            "Epoch 31 Batch 660 Loss 0.2635 Elapsed time 26.07s\n",
            "Epoch 31 Batch 720 Loss 0.1988 Elapsed time 26.11s\n",
            "Epoch 31 Batch 780 Loss 0.2352 Elapsed time 25.99s\n",
            "Epoch 31 Batch 840 Loss 0.2376 Elapsed time 26.12s\n",
            "Epoch 31 Batch 900 Loss 0.2114 Elapsed time 26.11s\n",
            "Нияте зурдан бит картның .\n",
            "[[6791, 5188, 22, 1106, 1]]\n",
            "ведь большие людей . <end>\n",
            "Epoch 32 Batch 0 Loss 0.2393 Elapsed time 15.31s\n",
            "Epoch 32 Batch 60 Loss 0.2603 Elapsed time 26.32s\n",
            "Epoch 32 Batch 120 Loss 0.2537 Elapsed time 26.19s\n",
            "Epoch 32 Batch 180 Loss 0.2534 Elapsed time 26.28s\n",
            "Epoch 32 Batch 240 Loss 0.2184 Elapsed time 26.64s\n",
            "Epoch 32 Batch 300 Loss 0.2526 Elapsed time 26.29s\n",
            "Epoch 32 Batch 360 Loss 0.2090 Elapsed time 26.63s\n",
            "Epoch 32 Batch 420 Loss 0.1903 Elapsed time 26.88s\n",
            "Epoch 32 Batch 480 Loss 0.2553 Elapsed time 26.73s\n",
            "Epoch 32 Batch 540 Loss 0.2634 Elapsed time 26.66s\n",
            "Epoch 32 Batch 600 Loss 0.2272 Elapsed time 26.74s\n",
            "Epoch 32 Batch 660 Loss 0.2721 Elapsed time 26.67s\n",
            "Epoch 32 Batch 720 Loss 0.1978 Elapsed time 26.54s\n",
            "Epoch 32 Batch 780 Loss 0.2253 Elapsed time 26.69s\n",
            "Epoch 32 Batch 840 Loss 0.2335 Elapsed time 26.38s\n",
            "Epoch 32 Batch 900 Loss 0.2023 Elapsed time 26.56s\n",
            "Лизаның соңгы ми­нутларын күрә алмады, янында була алмады Хәбир .\n",
            "[[4396, 174, 44269, 136, 1367, 251, 92, 302, 236, 1]]\n",
            "хабир не смог разглядеть последние взгляды лизы . <end>\n",
            "Epoch 33 Batch 0 Loss 0.2380 Elapsed time 15.63s\n",
            "Epoch 33 Batch 60 Loss 0.2581 Elapsed time 26.67s\n",
            "Epoch 33 Batch 120 Loss 0.2524 Elapsed time 26.67s\n",
            "Epoch 33 Batch 180 Loss 0.2476 Elapsed time 26.56s\n",
            "Epoch 33 Batch 240 Loss 0.2125 Elapsed time 26.67s\n",
            "Epoch 33 Batch 300 Loss 0.2460 Elapsed time 26.74s\n",
            "Epoch 33 Batch 360 Loss 0.2105 Elapsed time 26.67s\n",
            "Epoch 33 Batch 420 Loss 0.1897 Elapsed time 26.67s\n",
            "Epoch 33 Batch 480 Loss 0.2564 Elapsed time 26.65s\n",
            "Epoch 33 Batch 540 Loss 0.2775 Elapsed time 26.72s\n",
            "Epoch 33 Batch 600 Loss 0.2197 Elapsed time 26.84s\n",
            "Epoch 33 Batch 660 Loss 0.2708 Elapsed time 26.81s\n",
            "Epoch 33 Batch 720 Loss 0.1894 Elapsed time 26.78s\n",
            "Epoch 33 Batch 780 Loss 0.2212 Elapsed time 26.74s\n",
            "Epoch 33 Batch 840 Loss 0.2320 Elapsed time 26.84s\n",
            "Epoch 33 Batch 900 Loss 0.1963 Elapsed time 26.71s\n",
            "Ике ат җигеп кырдан киндер та­шыган чагыңны хәтерлим әле .\n",
            "[[54, 788, 17782, 43950, 8635, 43951, 25290, 8403, 19, 1]]\n",
            "помню, где ты на середине стройки не приехали тяжелый угол дороги . <end>\n",
            "Epoch 34 Batch 0 Loss 0.2301 Elapsed time 15.98s\n",
            "Epoch 34 Batch 60 Loss 0.2563 Elapsed time 26.65s\n",
            "Epoch 34 Batch 120 Loss 0.2459 Elapsed time 26.65s\n",
            "Epoch 34 Batch 180 Loss 0.2464 Elapsed time 26.68s\n",
            "Epoch 34 Batch 240 Loss 0.2094 Elapsed time 26.46s\n",
            "Epoch 34 Batch 300 Loss 0.2424 Elapsed time 26.30s\n",
            "Epoch 34 Batch 360 Loss 0.2059 Elapsed time 26.41s\n",
            "Epoch 34 Batch 420 Loss 0.1855 Elapsed time 26.61s\n",
            "Epoch 34 Batch 480 Loss 0.2519 Elapsed time 26.93s\n",
            "Epoch 34 Batch 540 Loss 0.2601 Elapsed time 26.71s\n",
            "Epoch 34 Batch 600 Loss 0.2217 Elapsed time 26.77s\n",
            "Epoch 34 Batch 660 Loss 0.2620 Elapsed time 26.91s\n",
            "Epoch 34 Batch 720 Loss 0.1891 Elapsed time 26.96s\n",
            "Epoch 34 Batch 780 Loss 0.2252 Elapsed time 26.92s\n",
            "Epoch 34 Batch 840 Loss 0.2352 Elapsed time 26.85s\n",
            "Epoch 34 Batch 900 Loss 0.1994 Elapsed time 26.81s\n",
            "Сайдә, яр башына менеп, якындагы куш каен төбенә барып сыенганчы, манма су булды .\n",
            "[[4165, 797, 317, 3973, 6495, 4992, 2621, 526, 133, 71701, 5726, 148, 79, 1]]\n",
            "на черную сторону, где стояла пара месте и не успела выбраться из дна воды\n",
            "Epoch 35 Batch 0 Loss 0.2232 Elapsed time 16.25s\n",
            "Epoch 35 Batch 60 Loss 0.2513 Elapsed time 26.89s\n",
            "Epoch 35 Batch 120 Loss 0.2427 Elapsed time 26.95s\n",
            "Epoch 35 Batch 180 Loss 0.2400 Elapsed time 26.90s\n",
            "Epoch 35 Batch 240 Loss 0.2041 Elapsed time 26.58s\n",
            "Epoch 35 Batch 300 Loss 0.2375 Elapsed time 26.39s\n",
            "Epoch 35 Batch 360 Loss 0.2023 Elapsed time 26.30s\n",
            "Epoch 35 Batch 420 Loss 0.1870 Elapsed time 26.19s\n",
            "Epoch 35 Batch 480 Loss 0.2527 Elapsed time 26.20s\n",
            "Epoch 35 Batch 540 Loss 0.2611 Elapsed time 26.20s\n",
            "Epoch 35 Batch 600 Loss 0.2209 Elapsed time 26.10s\n",
            "Epoch 35 Batch 660 Loss 0.2559 Elapsed time 26.09s\n",
            "Epoch 35 Batch 720 Loss 0.1894 Elapsed time 26.16s\n",
            "Epoch 35 Batch 780 Loss 0.2140 Elapsed time 26.08s\n",
            "Epoch 35 Batch 840 Loss 0.2283 Elapsed time 26.18s\n",
            "Epoch 35 Batch 900 Loss 0.2004 Elapsed time 26.54s\n",
            "Диләфрүз аның яхшылыкка чакырмаганын берьюлы төшенеп алды, ләкин ул әле кискен җавап бирергә әзер түгел иде .\n",
            "[[356, 11, 9910, 37680, 904, 3260, 664, 27, 3, 19, 1749, 143, 703, 819, 50, 4, 1]]\n",
            "диляфруз сказала не приглашает бы она еще чтобы ответить серьезно . <end>\n"
          ],
          "name": "stdout"
        }
      ]
    },
    {
      "cell_type": "code",
      "metadata": {
        "id": "DOc2pFAzP_wp",
        "colab_type": "code",
        "colab": {
          "base_uri": "https://localhost:8080/",
          "height": 578
        },
        "outputId": "f1fa795b-2d38-41e6-cee8-f74630e45c46"
      },
      "source": [
        "test_sents = (\n",
        "    \"Ә чынында исә, кеше түгел, гөмбә ул!\",\n",
        "    \"Андагы пулемет һәм автомат тавышлары монда бик тонык ишетелә.\",\n",
        "    \"Озак та үтмәде, күбәләк-күбәләк кар ява башлады.\",\n",
        "    \"Күк йөзе, авыр болытлардан әкрен-әкрен генә арчылып, зәңгәр күл сыман, урман өстенә җәелде.\",\n",
        "    \"Меңнәрчә, миллионнарча кар энҗеләре җем-җем итеп балкыйлар.\",\n",
        "    \"Барыбыз да ул күрсәткән якка борылдык.\",\n",
        "    \"Шуннан соң без аның турында һичнәрсә ишетмәдек.\",\n",
        "    \"Аның тавышында мин бүгенгә кадәр һич тә ишетмәгән әллә нинди сагыш, әрнү сиздем һәм үземнең бу саксыз-лыгым өчен аңардан гафу үтендем.\",\n",
        "    \"Дөресен әйткәндә, сез икенче тапкыр дөньяга тудыгыз.\",\n",
        "    \"Ә Хәйбулланың үле гәүдәсе дә юк, бары тик бүреге һәм каскасы гына төшеп калган иде.\",\n",
        "    \"Сугышчылар, коралларына тотынып, тын да алмыйча көтә башладылар.\",\n",
        ")\n",
        "\n",
        "\n",
        "for i, test_sent in enumerate(test_sents):\n",
        "    test_sequence = normalize_string(test_sent)\n",
        "    predict(test_sequence)"
      ],
      "execution_count": 19,
      "outputs": [
        {
          "output_type": "stream",
          "text": [
            "Ә чынында исә, кеше түгел, гөмбә ул !\n",
            "[[17, 6101, 3205, 25, 62, 11695, 3, 9]]\n",
            "предмета предмета предмета предмета предмета предмета предмета предмета предмета предмета предмета предмета предмета предмета\n",
            "Андагы пулемет һәм автомат тавышлары монда бик тонык ишетелә .\n",
            "[[1552, 20203, 14, 4417, 1455, 88, 16, 1848, 938, 1]]\n",
            "предмета предмета предмета предмета предмета предмета предмета предмета предмета предмета предмета предмета предмета предмета\n",
            "Озак та үтмәде, күбәләк-күбәләк кар ява башлады .\n",
            "[[190, 63, 3694, 20204, 409, 2810, 73, 1]]\n",
            "предмета предмета предмета предмета предмета предмета предмета предмета предмета предмета предмета предмета предмета предмета\n",
            "Күк йөзе, авыр болытлардан әкрен-әкрен генә арчылып, зәңгәр күл сыман, урман өстенә җәелде .\n",
            "[[564, 3198, 182, 10528, 3697, 13, 20212, 487, 984, 889, 966, 183, 12462, 1]]\n",
            "предмета предмета предмета предмета предмета предмета предмета предмета предмета предмета предмета предмета предмета предмета\n",
            "Меңнәрчә, миллионнарча кар энҗеләре җем-җем итеп балкыйлар .\n",
            "[[20215, 15419, 409, 20216, 8034, 48, 20217, 1]]\n",
            "предмета предмета предмета предмета предмета предмета предмета предмета предмета предмета предмета предмета предмета предмета\n",
            "Барыбыз да ул күрсәткән якка борылдык .\n",
            "[[1746, 2, 3, 2055, 313, 10530, 1]]\n",
            "предмета предмета предмета предмета предмета предмета предмета предмета предмета предмета предмета предмета предмета предмета\n",
            "Шуннан соң без аның турында һичнәрсә ишетмәдек .\n",
            "[[207, 60, 49, 11, 57, 20240, 15436, 1]]\n",
            "предмета предмета предмета предмета предмета смотр смотр смотр смотр смотр смотр штат предмета штат\n",
            "Аның тавышында мин бүгенгә кадәр һич тә ишетмәгән әллә нинди сагыш, әрнү сиздем һәм үземнең бу саксыз-лыгым өчен аңардан гафу үтендем .\n",
            "[[11, 2814, 10, 5501, 103, 258, 45, 5502, 61, 119, 9103, 6529, 5977, 14, 697, 8, 30506, 28, 954, 535, 9102, 1]]\n",
            "предмета предмета предмета предмета предмета предмета предмета предмета предмета предмета предмета предмета предмета предмета\n",
            "Дөресен әйткәндә, сез икенче тапкыр дөньяга тудыгыз .\n",
            "[[787, 1342, 96, 135, 181, 794, 30554, 1]]\n",
            "предмета предмета предмета предмета предмета предмета предмета предмета предмета предмета предмета предмета предмета предмета\n",
            "Ә Хәйбулланың үле гәүдәсе дә юк, бары тик бүреге һәм каскасы гына төшеп калган иде .\n",
            "[[17, 12537, 4741, 661, 5, 55, 151, 64, 7238, 14, 20436, 18, 292, 154, 4, 1]]\n",
            "предмета предмета предмета предмета предмета предмета предмета предмета предмета предмета предмета предмета предмета предмета\n",
            "Сугышчылар, коралларына тотынып, тын да алмыйча көтә башладылар .\n",
            "[[15457, 20451, 10605, 414, 2, 736, 927, 480, 1]]\n",
            "предмета предмета предмета предмета предмета предмета предмета предмета предмета предмета предмета предмета предмета предмета\n"
          ],
          "name": "stdout"
        }
      ]
    },
    {
      "cell_type": "markdown",
      "metadata": {
        "id": "xwddMX_CDEFs",
        "colab_type": "text"
      },
      "source": [
        "### Infer using 20 training examples"
      ]
    },
    {
      "cell_type": "code",
      "metadata": {
        "id": "mZhEri8owee9",
        "colab_type": "code",
        "colab": {}
      },
      "source": [
        ""
      ],
      "execution_count": 0,
      "outputs": []
    },
    {
      "cell_type": "markdown",
      "metadata": {
        "id": "5D_J4P-LDKsx",
        "colab_type": "text"
      },
      "source": [
        "### Infer on a random example"
      ]
    },
    {
      "cell_type": "code",
      "metadata": {
        "id": "TMsRRmu7m2wi",
        "colab_type": "code",
        "colab": {
          "base_uri": "https://localhost:8080/",
          "height": 68
        },
        "outputId": "779c1d11-b524-4916-f031-ba9364736af5"
      },
      "source": [
        "en_alignments, de_bot_alignments, de_mid_alignments, source, prediction = predict()"
      ],
      "execution_count": 20,
      "outputs": [
        {
          "output_type": "stream",
          "text": [
            "Малайлар да, Гүзәл дә шактый артта калдылар .\n",
            "[[1468, 26, 1587, 5, 156, 2124, 1148, 1]]\n",
            "предмета предмета предмета предмета предмета предмета предмета предмета предмета предмета предмета предмета предмета предмета\n"
          ],
          "name": "stdout"
        }
      ]
    },
    {
      "cell_type": "markdown",
      "metadata": {
        "id": "sV1_m_YjDPbL",
        "colab_type": "text"
      },
      "source": [
        "### Examine Encoder's attention"
      ]
    },
    {
      "cell_type": "code",
      "metadata": {
        "id": "jzfCXDVXm6wz",
        "colab_type": "code",
        "colab": {
          "base_uri": "https://localhost:8080/",
          "height": 810
        },
        "outputId": "796a03e0-5049-421a-b93e-9c2cdf49ea98"
      },
      "source": [
        "# attention = tf.reduce_mean(de_bot_alignments[0], axis=1).numpy()[0]\n",
        "attention = en_alignments[3][0, 2, :].numpy()\n",
        "print(attention.shape)\n",
        "\n",
        "import matplotlib.pyplot as plt\n",
        "\n",
        "fig = plt.figure(figsize=(10, 10))\n",
        "ax = fig.add_subplot(1, 1, 1)\n",
        "ax.matshow(attention, cmap='jet')\n",
        "ax.set_xticklabels([''] + source, rotation=90)\n",
        "ax.set_yticklabels([''] + source)"
      ],
      "execution_count": 59,
      "outputs": [
        {
          "output_type": "stream",
          "text": [
            "(8, 8)\n"
          ],
          "name": "stdout"
        },
        {
          "output_type": "execute_result",
          "data": {
            "text/plain": [
              "[Text(0, 0, ''),\n",
              " Text(0, 0, 'Чөнки'),\n",
              " Text(0, 0, 'дөнья'),\n",
              " Text(0, 0, 'гыйлеме'),\n",
              " Text(0, 0, 'тупланган'),\n",
              " Text(0, 0, 'башка'),\n",
              " Text(0, 0, 'җир'),\n",
              " Text(0, 0, 'юк'),\n",
              " Text(0, 0, '.')]"
            ]
          },
          "metadata": {
            "tags": []
          },
          "execution_count": 59
        },
        {
          "output_type": "display_data",
          "data": {
            "image/png": "[encoded data removed]",
            "text/plain": [
              "<Figure size 720x720 with 1 Axes>"
            ]
          },
          "metadata": {
            "tags": []
          }
        }
      ]
    },
    {
      "cell_type": "markdown",
      "metadata": {
        "id": "Ia__pcJ4DY-Z",
        "colab_type": "text"
      },
      "source": [
        "### Examine Decoder's lower attention"
      ]
    },
    {
      "cell_type": "code",
      "metadata": {
        "id": "TRt7m8PmDdjX",
        "colab_type": "code",
        "colab": {
          "base_uri": "https://localhost:8080/",
          "height": 801
        },
        "outputId": "791e7d11-d99b-4c67-e6f0-917f7418dea6"
      },
      "source": [
        "attention = de_bot_alignments[3][0, 7, :].numpy()\n",
        "print(attention.shape)\n",
        "\n",
        "fig = plt.figure(figsize=(10, 10))\n",
        "ax = fig.add_subplot(1, 1, 1)\n",
        "ax.matshow(attention, cmap='jet')\n",
        "ax.set_xticklabels([''] + prediction, rotation=90)\n",
        "ax.set_yticklabels([''] + prediction)"
      ],
      "execution_count": 52,
      "outputs": [
        {
          "output_type": "stream",
          "text": [
            "(14, 14)\n"
          ],
          "name": "stdout"
        },
        {
          "output_type": "execute_result",
          "data": {
            "text/plain": [
              "[Text(0, 0, ''),\n",
              " Text(0, 0, 'восемь'),\n",
              " Text(0, 0, 'же,'),\n",
              " Text(0, 0, 'как'),\n",
              " Text(0, 0, 'человек,'),\n",
              " Text(0, 0, 'можно'),\n",
              " Text(0, 0, 'отдать'),\n",
              " Text(0, 0, 'жизнь,'),\n",
              " Text(0, 0, 'но')]"
            ]
          },
          "metadata": {
            "tags": []
          },
          "execution_count": 52
        },
        {
          "output_type": "display_data",
          "data": {
            "image/png": "[encoded data removed]",
            "text/plain": [
              "<Figure size 720x720 with 1 Axes>"
            ]
          },
          "metadata": {
            "tags": []
          }
        }
      ]
    },
    {
      "cell_type": "markdown",
      "metadata": {
        "id": "8AOVcy73DjWG",
        "colab_type": "text"
      },
      "source": [
        "### Examine Decoder's upper attention"
      ]
    },
    {
      "cell_type": "code",
      "metadata": {
        "id": "WbT-_fYsDmLy",
        "colab_type": "code",
        "colab": {
          "base_uri": "https://localhost:8080/",
          "height": 607
        },
        "outputId": "630d9b5b-93cb-42fc-aa00-54db4c1c1127"
      },
      "source": [
        "attention = de_mid_alignments[3][0, 2, :].numpy()\n",
        "print(attention.shape)\n",
        "\n",
        "fig = plt.figure(figsize=(10, 10))\n",
        "ax = fig.add_subplot(1, 1, 1)\n",
        "ax.matshow(attention, cmap='jet')\n",
        "ax.set_xticklabels([''] + source, rotation=90)\n",
        "ax.set_yticklabels([''] + prediction)"
      ],
      "execution_count": 66,
      "outputs": [
        {
          "output_type": "stream",
          "text": [
            "(14, 24)\n"
          ],
          "name": "stdout"
        },
        {
          "output_type": "execute_result",
          "data": {
            "text/plain": [
              "[Text(0, 0, ''),\n",
              " Text(0, 0, 'когда'),\n",
              " Text(0, 0, 'раздался'),\n",
              " Text(0, 0, 'из'),\n",
              " Text(0, 0, 'больницы,'),\n",
              " Text(0, 0, 'их'),\n",
              " Text(0, 0, 'не'),\n",
              " Text(0, 0, 'в'),\n",
              " Text(0, 0, 'которой')]"
            ]
          },
          "metadata": {
            "tags": []
          },
          "execution_count": 66
        },
        {
          "output_type": "display_data",
          "data": {
            "image/png": "[encoded data removed]",
            "text/plain": [
              "<Figure size 720x720 with 1 Axes>"
            ]
          },
          "metadata": {
            "tags": []
          }
        }
      ]
    }
  ]
}